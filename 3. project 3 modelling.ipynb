{
 "cells": [
  {
   "cell_type": "code",
   "execution_count": 5,
   "id": "ba357691",
   "metadata": {},
   "outputs": [],
   "source": [
    "# lib\n",
    "import pandas as pd \n",
    "import matplotlib.pyplot as plt\n",
    "import seaborn as sns\n",
    "import numpy as np\n",
    "\n",
    "from sklearn.pipeline import Pipeline\n",
    "\n",
    "from sklearn.feature_extraction.text import CountVectorizer, TfidfVectorizer\n",
    "\n",
    "from sklearn.metrics import confusion_matrix, ConfusionMatrixDisplay\n",
    "from sklearn.metrics import classification_report\n",
    "from sklearn import metrics\n",
    "\n",
    "from sklearn.model_selection import train_test_split, GridSearchCV\n",
    "from sklearn.linear_model import LogisticRegression, RidgeClassifier\n",
    "from sklearn.svm import LinearSVC, SVC\n",
    "from sklearn.tree import DecisionTreeClassifier\n",
    "from sklearn.ensemble import AdaBoostClassifier, BaggingClassifier, AdaBoostClassifier, RandomForestClassifier\n",
    "from sklearn.neighbors import KNeighborsClassifier\n",
    "from sklearn.naive_bayes import MultinomialNB\n",
    "\n",
    "\n"
   ]
  },
  {
   "cell_type": "markdown",
   "id": "bf9a266d",
   "metadata": {},
   "source": [
    "# 4.0 Modeling "
   ]
  },
  {
   "cell_type": "code",
   "execution_count": 6,
   "id": "5d599853",
   "metadata": {},
   "outputs": [],
   "source": [
    "# preparing the df \n",
    "model_df = pd.read_csv('clean_for_model.csv')"
   ]
  },
  {
   "cell_type": "code",
   "execution_count": 7,
   "id": "b57a4bde",
   "metadata": {},
   "outputs": [
    {
     "name": "stdout",
     "output_type": "stream",
     "text": [
      "<class 'pandas.core.frame.DataFrame'>\n",
      "RangeIndex: 57333 entries, 0 to 57332\n",
      "Data columns (total 2 columns):\n",
      " #   Column         Non-Null Count  Dtype \n",
      "---  ------         --------------  ----- \n",
      " 0   num_label      57333 non-null  int64 \n",
      " 1   clean_content  57333 non-null  object\n",
      "dtypes: int64(1), object(1)\n",
      "memory usage: 896.0+ KB\n"
     ]
    }
   ],
   "source": [
    "model_df.info()"
   ]
  },
  {
   "cell_type": "code",
   "execution_count": 8,
   "id": "e3caa658",
   "metadata": {},
   "outputs": [
    {
     "data": {
      "text/plain": [
       "1    34414\n",
       "0    22919\n",
       "Name: num_label, dtype: int64"
      ]
     },
     "execution_count": 8,
     "metadata": {},
     "output_type": "execute_result"
    }
   ],
   "source": [
    "model_df['num_label'].value_counts()"
   ]
  },
  {
   "cell_type": "code",
   "execution_count": 9,
   "id": "b3dabae6",
   "metadata": {},
   "outputs": [],
   "source": [
    "# going to balance the class using random sample\n",
    "\n",
    "# Separate the classes\n",
    "majority_class = model_df[model_df['num_label'] == 1]\n",
    "minority_class = model_df[model_df['num_label'] == 0]\n",
    "\n",
    "# Randomly sample from the majority class to match the number of samples in the minority class\n",
    "majority_undersampled = majority_class.sample(len(minority_class))\n",
    "\n",
    "# Combine the undersampled majority class samples with the minority class samples\n",
    "balanced_df = pd.concat([majority_undersampled, minority_class], axis=0)\n",
    "\n",
    "# Shuffle the rows to mix the classes\n",
    "balanced_model_df = balanced_df.sample(frac=1).reset_index(drop=True)"
   ]
  },
  {
   "cell_type": "code",
   "execution_count": 10,
   "id": "85a62c3f",
   "metadata": {},
   "outputs": [
    {
     "data": {
      "text/plain": [
       "0    22919\n",
       "1    22919\n",
       "Name: num_label, dtype: int64"
      ]
     },
     "execution_count": 10,
     "metadata": {},
     "output_type": "execute_result"
    }
   ],
   "source": [
    "balanced_model_df['num_label'].value_counts()"
   ]
  },
  {
   "cell_type": "code",
   "execution_count": 11,
   "id": "40d2865a",
   "metadata": {},
   "outputs": [],
   "source": [
    "X = balanced_model_df['clean_content']\n",
    "y = balanced_model_df['num_label']"
   ]
  },
  {
   "cell_type": "code",
   "execution_count": 12,
   "id": "2bc35e0c",
   "metadata": {},
   "outputs": [],
   "source": [
    "X_train, X_val, y_train, y_val = train_test_split(X,\n",
    "                                                  y,\n",
    "                                                 test_size=0.35,\n",
    "                                                 random_state=42,\n",
    "                                                 stratify=y) "
   ]
  },
  {
   "cell_type": "markdown",
   "id": "f803a49b",
   "metadata": {},
   "source": [
    "### 4.1.0 Finding the Best Mode to used CountVectorizer (cvec)\n",
    "\n",
    "Going to use the model below without any tuning, to find out the baseline score for each model below."
   ]
  },
  {
   "cell_type": "code",
   "execution_count": 13,
   "id": "fd89ef39",
   "metadata": {},
   "outputs": [
    {
     "name": "stdout",
     "output_type": "stream",
     "text": [
      "LogisticRegression Train score: 0.888 Test score: 0.783\n",
      "LinearSVC Train score: 0.930 Test score: 0.770\n",
      "RidgeClassifier Train score: 0.915 Test score: 0.766\n",
      "DecisionTreeClassifier Train score: 0.998 Test score: 0.727\n",
      "KNeighborsClassifier Train score: 0.812 Test score: 0.706\n",
      "svc Train score: 0.928 Test score: 0.783\n",
      "AdaBoostClassifier Train score: 0.704 Test score: 0.698\n",
      "MultinomialNB Train score: 0.835 Test score: 0.779\n",
      "Random Forest Train score: 0.998 Test score: 0.784\n"
     ]
    }
   ],
   "source": [
    "# Define Models \n",
    "models ={\n",
    "    'LogisticRegression': LogisticRegression(max_iter=1000),\n",
    "    'LinearSVC': LinearSVC(max_iter=3000, dual=False),\n",
    "    'RidgeClassifier': RidgeClassifier(),\n",
    "    'DecisionTreeClassifier': DecisionTreeClassifier(),\n",
    "    'KNeighborsClassifier': KNeighborsClassifier(),\n",
    "    'svc': SVC(),\n",
    "    'AdaBoostClassifier': AdaBoostClassifier(),\n",
    "    'MultinomialNB':MultinomialNB(),\n",
    "    'Random Forest': RandomForestClassifier()\n",
    "}\n",
    "\n",
    "\n",
    "# Evaluate each model\n",
    "for name, model in models.items():\n",
    "    \n",
    "    # create a pipline for each model \n",
    "    pipeline = Pipeline([\n",
    "        ('cvec', CountVectorizer()),\n",
    "        ('classifier', model)\n",
    "    ])\n",
    "    \n",
    "    # Fit and score the model\n",
    "    pipeline.fit(X_train, y_train)  \n",
    "    train_score = pipeline.score(X_train, y_train)\n",
    "    test_score = pipeline.score(X_val, y_val)  \n",
    "    \n",
    "    print(f\"{name} Train score: {train_score:.3f} Test score: {test_score:.3f}\")"
   ]
  },
  {
   "cell_type": "markdown",
   "id": "7829d7a9",
   "metadata": {},
   "source": [
    "#### 4.1.1 Conclusion from baseline model using cvec \n",
    "\n",
    "From the results above, it shows that some models were performs better as compare to the others, So I am going to choose the following model to perform grid search\n",
    "\n",
    "**MultinomialNB** has the closest range in of train and test score as compare to the rest of the model. So this model has been choosen for grid search.   \n",
    "\n",
    "**LogisticRegression** The range difference between the train and test score was about 0.11. Althought it is much wider as compare to MultinomialNB, but will still choose this model to perform grid search, due to it perform much more better as compare to the rest of the model. \n",
    "\n",
    "**RidgeClassifier**  Will use this model, since this model able to give me the list of top 20 best correlated features.  \n",
    "\n",
    "**Random Forest** Although it perform badly wihtout any tuning, but will use this model for gridsearch, since this model are able to handle overfitting. "
   ]
  },
  {
   "cell_type": "markdown",
   "id": "2e558bb4",
   "metadata": {},
   "source": [
    "### 4.2.0 CountVectorizer Top 20 Occurings Words  \n",
    "\n",
    "Getting the top 20 words using cvec and compare to the models below. To see whether are there any similar words between cvec and the models used below.. "
   ]
  },
  {
   "cell_type": "code",
   "execution_count": 16,
   "id": "bb96700c",
   "metadata": {},
   "outputs": [
    {
     "data": {
      "text/plain": [
       "Text(0, 0.5, 'Words')"
      ]
     },
     "execution_count": 16,
     "metadata": {},
     "output_type": "execute_result"
    },
    {
     "data": {
      "image/png": "[encoded data removed]",
      "text/plain": [
       "<Figure size 640x480 with 1 Axes>"
      ]
     },
     "metadata": {},
     "output_type": "display_data"
    }
   ],
   "source": [
    "# Initialize and fit the cvec\n",
    "cvec = CountVectorizer()\n",
    "X_train_cvec = cvec.fit_transform(X_train)\n",
    "\n",
    "X_train_df = pd.DataFrame(X_train_cvec.todense(),\n",
    "                         columns=cvec.get_feature_names_out())\n",
    "\n",
    "ax = X_train_df.sum().sort_values(ascending=False).head(20).plot(kind='barh')\n",
    "ax.set_title('Top 20 Occuring words')\n",
    "ax.set_xlabel('count')\n",
    "ax.set_ylabel('Words')\n"
   ]
  },
  {
   "cell_type": "markdown",
   "id": "d38810a1",
   "metadata": {},
   "source": [
    "### 4.3.0 Selected model using cvec for GridSearch"
   ]
  },
  {
   "cell_type": "markdown",
   "id": "2d625524",
   "metadata": {},
   "source": [
    "#### 4.3.1.0 MultinomialNB using cvec"
   ]
  },
  {
   "cell_type": "code",
   "execution_count": 13,
   "id": "7661fef5",
   "metadata": {},
   "outputs": [
    {
     "name": "stdout",
     "output_type": "stream",
     "text": [
      "Fitting 5 folds for each of 720 candidates, totalling 3600 fits\n"
     ]
    },
    {
     "data": {
      "text/html": [
       "<style>#sk-container-id-1 {color: black;}#sk-container-id-1 pre{padding: 0;}#sk-container-id-1 div.sk-toggleable {background-color: white;}#sk-container-id-1 label.sk-toggleable__label {cursor: pointer;display: block;width: 100%;margin-bottom: 0;padding: 0.3em;box-sizing: border-box;text-align: center;}#sk-container-id-1 label.sk-toggleable__label-arrow:before {content: \"▸\";float: left;margin-right: 0.25em;color: #696969;}#sk-container-id-1 label.sk-toggleable__label-arrow:hover:before {color: black;}#sk-container-id-1 div.sk-estimator:hover label.sk-toggleable__label-arrow:before {color: black;}#sk-container-id-1 div.sk-toggleable__content {max-height: 0;max-width: 0;overflow: hidden;text-align: left;background-color: #f0f8ff;}#sk-container-id-1 div.sk-toggleable__content pre {margin: 0.2em;color: black;border-radius: 0.25em;background-color: #f0f8ff;}#sk-container-id-1 input.sk-toggleable__control:checked~div.sk-toggleable__content {max-height: 200px;max-width: 100%;overflow: auto;}#sk-container-id-1 input.sk-toggleable__control:checked~label.sk-toggleable__label-arrow:before {content: \"▾\";}#sk-container-id-1 div.sk-estimator input.sk-toggleable__control:checked~label.sk-toggleable__label {background-color: #d4ebff;}#sk-container-id-1 div.sk-label input.sk-toggleable__control:checked~label.sk-toggleable__label {background-color: #d4ebff;}#sk-container-id-1 input.sk-hidden--visually {border: 0;clip: rect(1px 1px 1px 1px);clip: rect(1px, 1px, 1px, 1px);height: 1px;margin: -1px;overflow: hidden;padding: 0;position: absolute;width: 1px;}#sk-container-id-1 div.sk-estimator {font-family: monospace;background-color: #f0f8ff;border: 1px dotted black;border-radius: 0.25em;box-sizing: border-box;margin-bottom: 0.5em;}#sk-container-id-1 div.sk-estimator:hover {background-color: #d4ebff;}#sk-container-id-1 div.sk-parallel-item::after {content: \"\";width: 100%;border-bottom: 1px solid gray;flex-grow: 1;}#sk-container-id-1 div.sk-label:hover label.sk-toggleable__label {background-color: #d4ebff;}#sk-container-id-1 div.sk-serial::before {content: \"\";position: absolute;border-left: 1px solid gray;box-sizing: border-box;top: 0;bottom: 0;left: 50%;z-index: 0;}#sk-container-id-1 div.sk-serial {display: flex;flex-direction: column;align-items: center;background-color: white;padding-right: 0.2em;padding-left: 0.2em;position: relative;}#sk-container-id-1 div.sk-item {position: relative;z-index: 1;}#sk-container-id-1 div.sk-parallel {display: flex;align-items: stretch;justify-content: center;background-color: white;position: relative;}#sk-container-id-1 div.sk-item::before, #sk-container-id-1 div.sk-parallel-item::before {content: \"\";position: absolute;border-left: 1px solid gray;box-sizing: border-box;top: 0;bottom: 0;left: 50%;z-index: -1;}#sk-container-id-1 div.sk-parallel-item {display: flex;flex-direction: column;z-index: 1;position: relative;background-color: white;}#sk-container-id-1 div.sk-parallel-item:first-child::after {align-self: flex-end;width: 50%;}#sk-container-id-1 div.sk-parallel-item:last-child::after {align-self: flex-start;width: 50%;}#sk-container-id-1 div.sk-parallel-item:only-child::after {width: 0;}#sk-container-id-1 div.sk-dashed-wrapped {border: 1px dashed gray;margin: 0 0.4em 0.5em 0.4em;box-sizing: border-box;padding-bottom: 0.4em;background-color: white;}#sk-container-id-1 div.sk-label label {font-family: monospace;font-weight: bold;display: inline-block;line-height: 1.2em;}#sk-container-id-1 div.sk-label-container {text-align: center;}#sk-container-id-1 div.sk-container {/* jupyter's `normalize.less` sets `[hidden] { display: none; }` but bootstrap.min.css set `[hidden] { display: none !important; }` so we also need the `!important` here to be able to override the default hidden behavior on the sphinx rendered scikit-learn.org. See: https://github.com/scikit-learn/scikit-learn/issues/21755 */display: inline-block !important;position: relative;}#sk-container-id-1 div.sk-text-repr-fallback {display: none;}</style><div id=\"sk-container-id-1\" class=\"sk-top-container\"><div class=\"sk-text-repr-fallback\"><pre>GridSearchCV(cv=5,\n",
       "             estimator=Pipeline(steps=[(&#x27;cvec&#x27;, CountVectorizer()),\n",
       "                                       (&#x27;classifier&#x27;, MultinomialNB())]),\n",
       "             n_jobs=7,\n",
       "             param_grid={&#x27;classifier__alpha&#x27;: [0.01, 0.1, 1.0, 10.0],\n",
       "                         &#x27;cvec__max_df&#x27;: [0.75, 0.8, 0.85, 0.9],\n",
       "                         &#x27;cvec__max_features&#x27;: [3000, 4000, 5000, 6000, 7000],\n",
       "                         &#x27;cvec__min_df&#x27;: [5, 10, 15],\n",
       "                         &#x27;cvec__ngram_range&#x27;: [(1, 2), (1, 1), (2, 2)]},\n",
       "             verbose=1)</pre><b>In a Jupyter environment, please rerun this cell to show the HTML representation or trust the notebook. <br />On GitHub, the HTML representation is unable to render, please try loading this page with nbviewer.org.</b></div><div class=\"sk-container\" hidden><div class=\"sk-item sk-dashed-wrapped\"><div class=\"sk-label-container\"><div class=\"sk-label sk-toggleable\"><input class=\"sk-toggleable__control sk-hidden--visually\" id=\"sk-estimator-id-1\" type=\"checkbox\" ><label for=\"sk-estimator-id-1\" class=\"sk-toggleable__label sk-toggleable__label-arrow\">GridSearchCV</label><div class=\"sk-toggleable__content\"><pre>GridSearchCV(cv=5,\n",
       "             estimator=Pipeline(steps=[(&#x27;cvec&#x27;, CountVectorizer()),\n",
       "                                       (&#x27;classifier&#x27;, MultinomialNB())]),\n",
       "             n_jobs=7,\n",
       "             param_grid={&#x27;classifier__alpha&#x27;: [0.01, 0.1, 1.0, 10.0],\n",
       "                         &#x27;cvec__max_df&#x27;: [0.75, 0.8, 0.85, 0.9],\n",
       "                         &#x27;cvec__max_features&#x27;: [3000, 4000, 5000, 6000, 7000],\n",
       "                         &#x27;cvec__min_df&#x27;: [5, 10, 15],\n",
       "                         &#x27;cvec__ngram_range&#x27;: [(1, 2), (1, 1), (2, 2)]},\n",
       "             verbose=1)</pre></div></div></div><div class=\"sk-parallel\"><div class=\"sk-parallel-item\"><div class=\"sk-item\"><div class=\"sk-label-container\"><div class=\"sk-label sk-toggleable\"><input class=\"sk-toggleable__control sk-hidden--visually\" id=\"sk-estimator-id-2\" type=\"checkbox\" ><label for=\"sk-estimator-id-2\" class=\"sk-toggleable__label sk-toggleable__label-arrow\">estimator: Pipeline</label><div class=\"sk-toggleable__content\"><pre>Pipeline(steps=[(&#x27;cvec&#x27;, CountVectorizer()), (&#x27;classifier&#x27;, MultinomialNB())])</pre></div></div></div><div class=\"sk-serial\"><div class=\"sk-item\"><div class=\"sk-serial\"><div class=\"sk-item\"><div class=\"sk-estimator sk-toggleable\"><input class=\"sk-toggleable__control sk-hidden--visually\" id=\"sk-estimator-id-3\" type=\"checkbox\" ><label for=\"sk-estimator-id-3\" class=\"sk-toggleable__label sk-toggleable__label-arrow\">CountVectorizer</label><div class=\"sk-toggleable__content\"><pre>CountVectorizer()</pre></div></div></div><div class=\"sk-item\"><div class=\"sk-estimator sk-toggleable\"><input class=\"sk-toggleable__control sk-hidden--visually\" id=\"sk-estimator-id-4\" type=\"checkbox\" ><label for=\"sk-estimator-id-4\" class=\"sk-toggleable__label sk-toggleable__label-arrow\">MultinomialNB</label><div class=\"sk-toggleable__content\"><pre>MultinomialNB()</pre></div></div></div></div></div></div></div></div></div></div></div></div>"
      ],
      "text/plain": [
       "GridSearchCV(cv=5,\n",
       "             estimator=Pipeline(steps=[('cvec', CountVectorizer()),\n",
       "                                       ('classifier', MultinomialNB())]),\n",
       "             n_jobs=7,\n",
       "             param_grid={'classifier__alpha': [0.01, 0.1, 1.0, 10.0],\n",
       "                         'cvec__max_df': [0.75, 0.8, 0.85, 0.9],\n",
       "                         'cvec__max_features': [3000, 4000, 5000, 6000, 7000],\n",
       "                         'cvec__min_df': [5, 10, 15],\n",
       "                         'cvec__ngram_range': [(1, 2), (1, 1), (2, 2)]},\n",
       "             verbose=1)"
      ]
     },
     "execution_count": 13,
     "metadata": {},
     "output_type": "execute_result"
    }
   ],
   "source": [
    "pipe = Pipeline([\n",
    "    ('cvec', CountVectorizer()),\n",
    "    ('classifier', MultinomialNB())\n",
    "])\n",
    "\n",
    "pipe_params = {\n",
    "    'cvec__max_features': [7000], # 3000, 4000, 5000, 6000, 7000\n",
    "    'cvec__min_df': [5],  # 5, 10, 15\n",
    "    'cvec__max_df': [.75],  # .75, .80, .85, .90\n",
    "    'cvec__ngram_range': [(1,2)],  # (1,2), (1,1), (2,2)\n",
    "    'classifier__alpha': [1.0]  # 0.01, 0.1, 1.0, 10.0\n",
    "}\n",
    "\n",
    "gs_nb_cvec = GridSearchCV(pipe, \n",
    "                  param_grid=pipe_params, \n",
    "                  cv=5, verbose=1, n_jobs=7)\n",
    "\n",
    "gs_nb_cvec.fit(X_train, y_train)"
   ]
  },
  {
   "cell_type": "code",
   "execution_count": 14,
   "id": "818678c2",
   "metadata": {},
   "outputs": [
    {
     "data": {
      "text/plain": [
       "{'classifier__alpha': 1.0,\n",
       " 'cvec__max_df': 0.75,\n",
       " 'cvec__max_features': 7000,\n",
       " 'cvec__min_df': 5,\n",
       " 'cvec__ngram_range': (1, 2)}"
      ]
     },
     "execution_count": 14,
     "metadata": {},
     "output_type": "execute_result"
    }
   ],
   "source": [
    "gs_nb_cvec.best_params_"
   ]
  },
  {
   "cell_type": "code",
   "execution_count": 15,
   "id": "38ced4bd",
   "metadata": {},
   "outputs": [
    {
     "name": "stdout",
     "output_type": "stream",
     "text": [
      "MultinomialNB cvec train accuracy score 0.811\n",
      "MultinomialNB cvec test accuracy score 0.784\n"
     ]
    }
   ],
   "source": [
    "print(f\"MultinomialNB cvec train accuracy score {round(gs_nb_cvec.score(X_train, y_train),3)}\")\n",
    "\n",
    "print(f\"MultinomialNB cvec test accuracy score {round(gs_nb_cvec.score(X_val, y_val),3)}\")"
   ]
  },
  {
   "cell_type": "markdown",
   "id": "47b1bd10",
   "metadata": {},
   "source": [
    "#### 4.3.1.1 MultinomialNB cvec Classification Report"
   ]
  },
  {
   "cell_type": "code",
   "execution_count": 15,
   "id": "ce8f822f",
   "metadata": {},
   "outputs": [
    {
     "name": "stdout",
     "output_type": "stream",
     "text": [
      "[[6102 2195]\n",
      " [1441 6855]]\n",
      "              precision    recall  f1-score   support\n",
      "\n",
      "           0       0.81      0.74      0.77      8297\n",
      "           1       0.76      0.83      0.79      8296\n",
      "\n",
      "    accuracy                           0.78     16593\n",
      "   macro avg       0.78      0.78      0.78     16593\n",
      "weighted avg       0.78      0.78      0.78     16593\n",
      "\n"
     ]
    }
   ],
   "source": [
    "# y_pred value using NB cvec\n",
    "y_pred_nb_cvec = gs_nb_cvec.predict(X_val)\n",
    "\n",
    "print(confusion_matrix(y_val,y_pred_nb_cvec))\n",
    "print(classification_report(y_val,y_pred_nb_cvec))"
   ]
  },
  {
   "cell_type": "markdown",
   "id": "3645aded",
   "metadata": {},
   "source": [
    "#### 4.3.2.0 LogisticRegression using cvec"
   ]
  },
  {
   "cell_type": "code",
   "execution_count": 16,
   "id": "3e8bc59e",
   "metadata": {},
   "outputs": [
    {
     "name": "stdout",
     "output_type": "stream",
     "text": [
      "Fitting 3 folds for each of 2880 candidates, totalling 8640 fits\n"
     ]
    },
    {
     "data": {
      "text/html": [
       "<style>#sk-container-id-2 {color: black;}#sk-container-id-2 pre{padding: 0;}#sk-container-id-2 div.sk-toggleable {background-color: white;}#sk-container-id-2 label.sk-toggleable__label {cursor: pointer;display: block;width: 100%;margin-bottom: 0;padding: 0.3em;box-sizing: border-box;text-align: center;}#sk-container-id-2 label.sk-toggleable__label-arrow:before {content: \"▸\";float: left;margin-right: 0.25em;color: #696969;}#sk-container-id-2 label.sk-toggleable__label-arrow:hover:before {color: black;}#sk-container-id-2 div.sk-estimator:hover label.sk-toggleable__label-arrow:before {color: black;}#sk-container-id-2 div.sk-toggleable__content {max-height: 0;max-width: 0;overflow: hidden;text-align: left;background-color: #f0f8ff;}#sk-container-id-2 div.sk-toggleable__content pre {margin: 0.2em;color: black;border-radius: 0.25em;background-color: #f0f8ff;}#sk-container-id-2 input.sk-toggleable__control:checked~div.sk-toggleable__content {max-height: 200px;max-width: 100%;overflow: auto;}#sk-container-id-2 input.sk-toggleable__control:checked~label.sk-toggleable__label-arrow:before {content: \"▾\";}#sk-container-id-2 div.sk-estimator input.sk-toggleable__control:checked~label.sk-toggleable__label {background-color: #d4ebff;}#sk-container-id-2 div.sk-label input.sk-toggleable__control:checked~label.sk-toggleable__label {background-color: #d4ebff;}#sk-container-id-2 input.sk-hidden--visually {border: 0;clip: rect(1px 1px 1px 1px);clip: rect(1px, 1px, 1px, 1px);height: 1px;margin: -1px;overflow: hidden;padding: 0;position: absolute;width: 1px;}#sk-container-id-2 div.sk-estimator {font-family: monospace;background-color: #f0f8ff;border: 1px dotted black;border-radius: 0.25em;box-sizing: border-box;margin-bottom: 0.5em;}#sk-container-id-2 div.sk-estimator:hover {background-color: #d4ebff;}#sk-container-id-2 div.sk-parallel-item::after {content: \"\";width: 100%;border-bottom: 1px solid gray;flex-grow: 1;}#sk-container-id-2 div.sk-label:hover label.sk-toggleable__label {background-color: #d4ebff;}#sk-container-id-2 div.sk-serial::before {content: \"\";position: absolute;border-left: 1px solid gray;box-sizing: border-box;top: 0;bottom: 0;left: 50%;z-index: 0;}#sk-container-id-2 div.sk-serial {display: flex;flex-direction: column;align-items: center;background-color: white;padding-right: 0.2em;padding-left: 0.2em;position: relative;}#sk-container-id-2 div.sk-item {position: relative;z-index: 1;}#sk-container-id-2 div.sk-parallel {display: flex;align-items: stretch;justify-content: center;background-color: white;position: relative;}#sk-container-id-2 div.sk-item::before, #sk-container-id-2 div.sk-parallel-item::before {content: \"\";position: absolute;border-left: 1px solid gray;box-sizing: border-box;top: 0;bottom: 0;left: 50%;z-index: -1;}#sk-container-id-2 div.sk-parallel-item {display: flex;flex-direction: column;z-index: 1;position: relative;background-color: white;}#sk-container-id-2 div.sk-parallel-item:first-child::after {align-self: flex-end;width: 50%;}#sk-container-id-2 div.sk-parallel-item:last-child::after {align-self: flex-start;width: 50%;}#sk-container-id-2 div.sk-parallel-item:only-child::after {width: 0;}#sk-container-id-2 div.sk-dashed-wrapped {border: 1px dashed gray;margin: 0 0.4em 0.5em 0.4em;box-sizing: border-box;padding-bottom: 0.4em;background-color: white;}#sk-container-id-2 div.sk-label label {font-family: monospace;font-weight: bold;display: inline-block;line-height: 1.2em;}#sk-container-id-2 div.sk-label-container {text-align: center;}#sk-container-id-2 div.sk-container {/* jupyter's `normalize.less` sets `[hidden] { display: none; }` but bootstrap.min.css set `[hidden] { display: none !important; }` so we also need the `!important` here to be able to override the default hidden behavior on the sphinx rendered scikit-learn.org. See: https://github.com/scikit-learn/scikit-learn/issues/21755 */display: inline-block !important;position: relative;}#sk-container-id-2 div.sk-text-repr-fallback {display: none;}</style><div id=\"sk-container-id-2\" class=\"sk-top-container\"><div class=\"sk-text-repr-fallback\"><pre>GridSearchCV(cv=3,\n",
       "             estimator=Pipeline(steps=[(&#x27;cvec&#x27;, CountVectorizer()),\n",
       "                                       (&#x27;lr&#x27;,\n",
       "                                        LogisticRegression(max_iter=5000))]),\n",
       "             n_jobs=6,\n",
       "             param_grid=[{&#x27;cvec__max_df&#x27;: [0.75, 0.85, 0.9, 0.95],\n",
       "                          &#x27;cvec__max_features&#x27;: [5000, 10000, 15000, 18000,\n",
       "                                                 20000],\n",
       "                          &#x27;cvec__min_df&#x27;: [2, 3, 5],\n",
       "                          &#x27;cvec__ngram_range&#x27;: [(1, 1), (1, 2), (2, 2)],\n",
       "                          &#x27;lr__C&#x27;: [0.01, 0.1, 1, 10],\n",
       "                          &#x27;lr__class_weight&#x27;: [None, &#x27;balanced&#x27;],\n",
       "                          &#x27;lr__penalty&#x27;: [&#x27;l1&#x27;, &#x27;l2&#x27;],\n",
       "                          &#x27;lr__solver&#x27;: [&#x27;liblinear&#x27;]}],\n",
       "             verbose=2)</pre><b>In a Jupyter environment, please rerun this cell to show the HTML representation or trust the notebook. <br />On GitHub, the HTML representation is unable to render, please try loading this page with nbviewer.org.</b></div><div class=\"sk-container\" hidden><div class=\"sk-item sk-dashed-wrapped\"><div class=\"sk-label-container\"><div class=\"sk-label sk-toggleable\"><input class=\"sk-toggleable__control sk-hidden--visually\" id=\"sk-estimator-id-5\" type=\"checkbox\" ><label for=\"sk-estimator-id-5\" class=\"sk-toggleable__label sk-toggleable__label-arrow\">GridSearchCV</label><div class=\"sk-toggleable__content\"><pre>GridSearchCV(cv=3,\n",
       "             estimator=Pipeline(steps=[(&#x27;cvec&#x27;, CountVectorizer()),\n",
       "                                       (&#x27;lr&#x27;,\n",
       "                                        LogisticRegression(max_iter=5000))]),\n",
       "             n_jobs=6,\n",
       "             param_grid=[{&#x27;cvec__max_df&#x27;: [0.75, 0.85, 0.9, 0.95],\n",
       "                          &#x27;cvec__max_features&#x27;: [5000, 10000, 15000, 18000,\n",
       "                                                 20000],\n",
       "                          &#x27;cvec__min_df&#x27;: [2, 3, 5],\n",
       "                          &#x27;cvec__ngram_range&#x27;: [(1, 1), (1, 2), (2, 2)],\n",
       "                          &#x27;lr__C&#x27;: [0.01, 0.1, 1, 10],\n",
       "                          &#x27;lr__class_weight&#x27;: [None, &#x27;balanced&#x27;],\n",
       "                          &#x27;lr__penalty&#x27;: [&#x27;l1&#x27;, &#x27;l2&#x27;],\n",
       "                          &#x27;lr__solver&#x27;: [&#x27;liblinear&#x27;]}],\n",
       "             verbose=2)</pre></div></div></div><div class=\"sk-parallel\"><div class=\"sk-parallel-item\"><div class=\"sk-item\"><div class=\"sk-label-container\"><div class=\"sk-label sk-toggleable\"><input class=\"sk-toggleable__control sk-hidden--visually\" id=\"sk-estimator-id-6\" type=\"checkbox\" ><label for=\"sk-estimator-id-6\" class=\"sk-toggleable__label sk-toggleable__label-arrow\">estimator: Pipeline</label><div class=\"sk-toggleable__content\"><pre>Pipeline(steps=[(&#x27;cvec&#x27;, CountVectorizer()),\n",
       "                (&#x27;lr&#x27;, LogisticRegression(max_iter=5000))])</pre></div></div></div><div class=\"sk-serial\"><div class=\"sk-item\"><div class=\"sk-serial\"><div class=\"sk-item\"><div class=\"sk-estimator sk-toggleable\"><input class=\"sk-toggleable__control sk-hidden--visually\" id=\"sk-estimator-id-7\" type=\"checkbox\" ><label for=\"sk-estimator-id-7\" class=\"sk-toggleable__label sk-toggleable__label-arrow\">CountVectorizer</label><div class=\"sk-toggleable__content\"><pre>CountVectorizer()</pre></div></div></div><div class=\"sk-item\"><div class=\"sk-estimator sk-toggleable\"><input class=\"sk-toggleable__control sk-hidden--visually\" id=\"sk-estimator-id-8\" type=\"checkbox\" ><label for=\"sk-estimator-id-8\" class=\"sk-toggleable__label sk-toggleable__label-arrow\">LogisticRegression</label><div class=\"sk-toggleable__content\"><pre>LogisticRegression(max_iter=5000)</pre></div></div></div></div></div></div></div></div></div></div></div></div>"
      ],
      "text/plain": [
       "GridSearchCV(cv=3,\n",
       "             estimator=Pipeline(steps=[('cvec', CountVectorizer()),\n",
       "                                       ('lr',\n",
       "                                        LogisticRegression(max_iter=5000))]),\n",
       "             n_jobs=6,\n",
       "             param_grid=[{'cvec__max_df': [0.75, 0.85, 0.9, 0.95],\n",
       "                          'cvec__max_features': [5000, 10000, 15000, 18000,\n",
       "                                                 20000],\n",
       "                          'cvec__min_df': [2, 3, 5],\n",
       "                          'cvec__ngram_range': [(1, 1), (1, 2), (2, 2)],\n",
       "                          'lr__C': [0.01, 0.1, 1, 10],\n",
       "                          'lr__class_weight': [None, 'balanced'],\n",
       "                          'lr__penalty': ['l1', 'l2'],\n",
       "                          'lr__solver': ['liblinear']}],\n",
       "             verbose=2)"
      ]
     },
     "execution_count": 16,
     "metadata": {},
     "output_type": "execute_result"
    }
   ],
   "source": [
    "pipe = Pipeline([\n",
    "    ('cvec', CountVectorizer()),\n",
    "    ('lr', LogisticRegression(max_iter=5000))\n",
    "])\n",
    "\n",
    "param_grid = [\n",
    "    {\n",
    "        'cvec__max_features': [20000],# 5000, 10000, 15000, 18000, 20000\n",
    "        'cvec__min_df': [2],# 2, 3, 5\n",
    "        'cvec__max_df': [0.75],# 0.75, 0.85, 0.90, 0.95\n",
    "        'cvec__ngram_range': [(1,2)],# (1,1), (1,2), (2,2) \n",
    "        'lr__C': [0.1],# 0.01, 0.1, 1, 10\n",
    "        'lr__penalty': ['l2'], # 'l1', 'l2'\n",
    "        'lr__solver': ['liblinear'],\n",
    "        'lr__class_weight': [None] # None, 'balanced'\n",
    "    }]\n",
    "\n",
    "gs_lr_cvec = GridSearchCV(pipe, \n",
    "                  param_grid=param_grid, \n",
    "                  cv=3, verbose=2, n_jobs=6)\n",
    "\n",
    "gs_lr_cvec.fit(X_train, y_train)"
   ]
  },
  {
   "cell_type": "code",
   "execution_count": 17,
   "id": "c9b1dbb4",
   "metadata": {},
   "outputs": [
    {
     "data": {
      "text/plain": [
       "{'cvec__max_df': 0.75,\n",
       " 'cvec__max_features': 20000,\n",
       " 'cvec__min_df': 2,\n",
       " 'cvec__ngram_range': (1, 2),\n",
       " 'lr__C': 0.1,\n",
       " 'lr__class_weight': None,\n",
       " 'lr__penalty': 'l2',\n",
       " 'lr__solver': 'liblinear'}"
      ]
     },
     "execution_count": 17,
     "metadata": {},
     "output_type": "execute_result"
    }
   ],
   "source": [
    "gs_lr_cvec.best_params_"
   ]
  },
  {
   "cell_type": "code",
   "execution_count": 18,
   "id": "71a8acc2",
   "metadata": {},
   "outputs": [
    {
     "name": "stdout",
     "output_type": "stream",
     "text": [
      " LogisticRegression cvec train accuracy score 0.859\n",
      " LogisticRegression cvec test accuracy score 0.792\n"
     ]
    }
   ],
   "source": [
    "print(f\" LogisticRegression cvec train accuracy score {round(gs_lr_cvec.score(X_train, y_train),3)}\")\n",
    "print(f\" LogisticRegression cvec test accuracy score {round(gs_lr_cvec.score(X_val, y_val),3)}\")"
   ]
  },
  {
   "cell_type": "markdown",
   "id": "2be00ec0",
   "metadata": {},
   "source": [
    "#### 4.3.2.1  LogisticRegression cvec Classification Report"
   ]
  },
  {
   "cell_type": "code",
   "execution_count": 19,
   "id": "bf6e4741",
   "metadata": {},
   "outputs": [
    {
     "name": "stdout",
     "output_type": "stream",
     "text": [
      "[[6495 1802]\n",
      " [1647 6649]]\n",
      "              precision    recall  f1-score   support\n",
      "\n",
      "           0       0.80      0.78      0.79      8297\n",
      "           1       0.79      0.80      0.79      8296\n",
      "\n",
      "    accuracy                           0.79     16593\n",
      "   macro avg       0.79      0.79      0.79     16593\n",
      "weighted avg       0.79      0.79      0.79     16593\n",
      "\n"
     ]
    }
   ],
   "source": [
    "# y_pred value using logistic regression cvec\n",
    "y_pred_lr_cvec = gs_lr_cvec.predict(X_val)\n",
    "\n",
    "print(confusion_matrix(y_val,y_pred_lr_cvec))\n",
    "print(classification_report(y_val,y_pred_lr_cvec))"
   ]
  },
  {
   "cell_type": "markdown",
   "id": "4f089922",
   "metadata": {},
   "source": [
    "#### 4.3.2.2  LogisticRegression cvec Top 20 Features "
   ]
  },
  {
   "cell_type": "code",
   "execution_count": 20,
   "id": "b7485aec",
   "metadata": {},
   "outputs": [
    {
     "data": {
      "image/png": "[encoded data removed]",
      "text/plain": [
       "<Figure size 1000x800 with 1 Axes>"
      ]
     },
     "metadata": {},
     "output_type": "display_data"
    }
   ],
   "source": [
    "best_model = gs_lr_cvec.best_estimator_\n",
    "\n",
    "# Extract coefficient and features names\n",
    "coefficients = best_model.named_steps['lr'].coef_[0]\n",
    "feature_names = best_model.named_steps['cvec'].get_feature_names_out()\n",
    "\n",
    "# Match coefficients to feature names and sort by magnitude\n",
    "features_with_coefficients = sorted(list(zip(feature_names, coefficients)), key=lambda x: abs(x[1]), reverse=True)\n",
    "\n",
    "# Display top 20 features\n",
    "\n",
    "# Extract features and coefficients for top 20\n",
    "top_features = [x[0] for x in features_with_coefficients[:20]]\n",
    "top_coefs = [x[1] for x in features_with_coefficients[:20]]\n",
    "\n",
    "# Plot\n",
    "plt.figure(figsize=(10, 8))\n",
    "plt.barh(top_features, top_coefs, color='skyblue')\n",
    "plt.xlabel('Coefficient Value')\n",
    "plt.ylabel('Feature')\n",
    "plt.title('Top 20 Features with Coefficients')\n",
    "plt.gca().invert_yaxis()  # To display the feature with the highest coefficient at the top\n",
    "plt.show()\n",
    "\n"
   ]
  },
  {
   "cell_type": "markdown",
   "id": "b7d1e573",
   "metadata": {},
   "source": [
    "#### 4.3.2.3  LogisticRegression cvec Top 20 Features\n",
    "\n",
    "Comparing the \"Top 20 best coefficient words\" with \"4.2.0 CountVectorizer Top 20 occurings words\", the only common word that could be found between that two list was \"4090\". \n",
    "\n",
    "With this we are able to conclude, the top 20 occuring words using Cvec might not necessarily be the most imformative for predicting the target variable. "
   ]
  },
  {
   "cell_type": "markdown",
   "id": "d1832069",
   "metadata": {},
   "source": [
    "#### 4.3.3.0 RidgeClassifier using cvec"
   ]
  },
  {
   "cell_type": "code",
   "execution_count": 22,
   "id": "5684d6f0",
   "metadata": {},
   "outputs": [
    {
     "name": "stdout",
     "output_type": "stream",
     "text": [
      "Fitting 3 folds for each of 900 candidates, totalling 2700 fits\n"
     ]
    },
    {
     "data": {
      "text/html": [
       "<style>#sk-container-id-3 {color: black;}#sk-container-id-3 pre{padding: 0;}#sk-container-id-3 div.sk-toggleable {background-color: white;}#sk-container-id-3 label.sk-toggleable__label {cursor: pointer;display: block;width: 100%;margin-bottom: 0;padding: 0.3em;box-sizing: border-box;text-align: center;}#sk-container-id-3 label.sk-toggleable__label-arrow:before {content: \"▸\";float: left;margin-right: 0.25em;color: #696969;}#sk-container-id-3 label.sk-toggleable__label-arrow:hover:before {color: black;}#sk-container-id-3 div.sk-estimator:hover label.sk-toggleable__label-arrow:before {color: black;}#sk-container-id-3 div.sk-toggleable__content {max-height: 0;max-width: 0;overflow: hidden;text-align: left;background-color: #f0f8ff;}#sk-container-id-3 div.sk-toggleable__content pre {margin: 0.2em;color: black;border-radius: 0.25em;background-color: #f0f8ff;}#sk-container-id-3 input.sk-toggleable__control:checked~div.sk-toggleable__content {max-height: 200px;max-width: 100%;overflow: auto;}#sk-container-id-3 input.sk-toggleable__control:checked~label.sk-toggleable__label-arrow:before {content: \"▾\";}#sk-container-id-3 div.sk-estimator input.sk-toggleable__control:checked~label.sk-toggleable__label {background-color: #d4ebff;}#sk-container-id-3 div.sk-label input.sk-toggleable__control:checked~label.sk-toggleable__label {background-color: #d4ebff;}#sk-container-id-3 input.sk-hidden--visually {border: 0;clip: rect(1px 1px 1px 1px);clip: rect(1px, 1px, 1px, 1px);height: 1px;margin: -1px;overflow: hidden;padding: 0;position: absolute;width: 1px;}#sk-container-id-3 div.sk-estimator {font-family: monospace;background-color: #f0f8ff;border: 1px dotted black;border-radius: 0.25em;box-sizing: border-box;margin-bottom: 0.5em;}#sk-container-id-3 div.sk-estimator:hover {background-color: #d4ebff;}#sk-container-id-3 div.sk-parallel-item::after {content: \"\";width: 100%;border-bottom: 1px solid gray;flex-grow: 1;}#sk-container-id-3 div.sk-label:hover label.sk-toggleable__label {background-color: #d4ebff;}#sk-container-id-3 div.sk-serial::before {content: \"\";position: absolute;border-left: 1px solid gray;box-sizing: border-box;top: 0;bottom: 0;left: 50%;z-index: 0;}#sk-container-id-3 div.sk-serial {display: flex;flex-direction: column;align-items: center;background-color: white;padding-right: 0.2em;padding-left: 0.2em;position: relative;}#sk-container-id-3 div.sk-item {position: relative;z-index: 1;}#sk-container-id-3 div.sk-parallel {display: flex;align-items: stretch;justify-content: center;background-color: white;position: relative;}#sk-container-id-3 div.sk-item::before, #sk-container-id-3 div.sk-parallel-item::before {content: \"\";position: absolute;border-left: 1px solid gray;box-sizing: border-box;top: 0;bottom: 0;left: 50%;z-index: -1;}#sk-container-id-3 div.sk-parallel-item {display: flex;flex-direction: column;z-index: 1;position: relative;background-color: white;}#sk-container-id-3 div.sk-parallel-item:first-child::after {align-self: flex-end;width: 50%;}#sk-container-id-3 div.sk-parallel-item:last-child::after {align-self: flex-start;width: 50%;}#sk-container-id-3 div.sk-parallel-item:only-child::after {width: 0;}#sk-container-id-3 div.sk-dashed-wrapped {border: 1px dashed gray;margin: 0 0.4em 0.5em 0.4em;box-sizing: border-box;padding-bottom: 0.4em;background-color: white;}#sk-container-id-3 div.sk-label label {font-family: monospace;font-weight: bold;display: inline-block;line-height: 1.2em;}#sk-container-id-3 div.sk-label-container {text-align: center;}#sk-container-id-3 div.sk-container {/* jupyter's `normalize.less` sets `[hidden] { display: none; }` but bootstrap.min.css set `[hidden] { display: none !important; }` so we also need the `!important` here to be able to override the default hidden behavior on the sphinx rendered scikit-learn.org. See: https://github.com/scikit-learn/scikit-learn/issues/21755 */display: inline-block !important;position: relative;}#sk-container-id-3 div.sk-text-repr-fallback {display: none;}</style><div id=\"sk-container-id-3\" class=\"sk-top-container\"><div class=\"sk-text-repr-fallback\"><pre>GridSearchCV(cv=3,\n",
       "             estimator=Pipeline(steps=[(&#x27;cvec&#x27;, CountVectorizer()),\n",
       "                                       (&#x27;rc&#x27;, RidgeClassifier())]),\n",
       "             n_jobs=6,\n",
       "             param_grid=[{&#x27;cvec__max_df&#x27;: [0.75, 0.85, 0.9, 0.95],\n",
       "                          &#x27;cvec__max_features&#x27;: [5000, 10000, 15000, 18000,\n",
       "                                                 20000],\n",
       "                          &#x27;cvec__min_df&#x27;: [2, 3, 5],\n",
       "                          &#x27;cvec__ngram_range&#x27;: [(1, 1), (1, 2), (2, 2)],\n",
       "                          &#x27;rc__alpha&#x27;: [0.01, 0.1, 1, 10, 100]}],\n",
       "             verbose=2)</pre><b>In a Jupyter environment, please rerun this cell to show the HTML representation or trust the notebook. <br />On GitHub, the HTML representation is unable to render, please try loading this page with nbviewer.org.</b></div><div class=\"sk-container\" hidden><div class=\"sk-item sk-dashed-wrapped\"><div class=\"sk-label-container\"><div class=\"sk-label sk-toggleable\"><input class=\"sk-toggleable__control sk-hidden--visually\" id=\"sk-estimator-id-9\" type=\"checkbox\" ><label for=\"sk-estimator-id-9\" class=\"sk-toggleable__label sk-toggleable__label-arrow\">GridSearchCV</label><div class=\"sk-toggleable__content\"><pre>GridSearchCV(cv=3,\n",
       "             estimator=Pipeline(steps=[(&#x27;cvec&#x27;, CountVectorizer()),\n",
       "                                       (&#x27;rc&#x27;, RidgeClassifier())]),\n",
       "             n_jobs=6,\n",
       "             param_grid=[{&#x27;cvec__max_df&#x27;: [0.75, 0.85, 0.9, 0.95],\n",
       "                          &#x27;cvec__max_features&#x27;: [5000, 10000, 15000, 18000,\n",
       "                                                 20000],\n",
       "                          &#x27;cvec__min_df&#x27;: [2, 3, 5],\n",
       "                          &#x27;cvec__ngram_range&#x27;: [(1, 1), (1, 2), (2, 2)],\n",
       "                          &#x27;rc__alpha&#x27;: [0.01, 0.1, 1, 10, 100]}],\n",
       "             verbose=2)</pre></div></div></div><div class=\"sk-parallel\"><div class=\"sk-parallel-item\"><div class=\"sk-item\"><div class=\"sk-label-container\"><div class=\"sk-label sk-toggleable\"><input class=\"sk-toggleable__control sk-hidden--visually\" id=\"sk-estimator-id-10\" type=\"checkbox\" ><label for=\"sk-estimator-id-10\" class=\"sk-toggleable__label sk-toggleable__label-arrow\">estimator: Pipeline</label><div class=\"sk-toggleable__content\"><pre>Pipeline(steps=[(&#x27;cvec&#x27;, CountVectorizer()), (&#x27;rc&#x27;, RidgeClassifier())])</pre></div></div></div><div class=\"sk-serial\"><div class=\"sk-item\"><div class=\"sk-serial\"><div class=\"sk-item\"><div class=\"sk-estimator sk-toggleable\"><input class=\"sk-toggleable__control sk-hidden--visually\" id=\"sk-estimator-id-11\" type=\"checkbox\" ><label for=\"sk-estimator-id-11\" class=\"sk-toggleable__label sk-toggleable__label-arrow\">CountVectorizer</label><div class=\"sk-toggleable__content\"><pre>CountVectorizer()</pre></div></div></div><div class=\"sk-item\"><div class=\"sk-estimator sk-toggleable\"><input class=\"sk-toggleable__control sk-hidden--visually\" id=\"sk-estimator-id-12\" type=\"checkbox\" ><label for=\"sk-estimator-id-12\" class=\"sk-toggleable__label sk-toggleable__label-arrow\">RidgeClassifier</label><div class=\"sk-toggleable__content\"><pre>RidgeClassifier()</pre></div></div></div></div></div></div></div></div></div></div></div></div>"
      ],
      "text/plain": [
       "GridSearchCV(cv=3,\n",
       "             estimator=Pipeline(steps=[('cvec', CountVectorizer()),\n",
       "                                       ('rc', RidgeClassifier())]),\n",
       "             n_jobs=6,\n",
       "             param_grid=[{'cvec__max_df': [0.75, 0.85, 0.9, 0.95],\n",
       "                          'cvec__max_features': [5000, 10000, 15000, 18000,\n",
       "                                                 20000],\n",
       "                          'cvec__min_df': [2, 3, 5],\n",
       "                          'cvec__ngram_range': [(1, 1), (1, 2), (2, 2)],\n",
       "                          'rc__alpha': [0.01, 0.1, 1, 10, 100]}],\n",
       "             verbose=2)"
      ]
     },
     "execution_count": 22,
     "metadata": {},
     "output_type": "execute_result"
    }
   ],
   "source": [
    "# Now, you can use the original X_train_vec_ct in your pipeline:\n",
    "pipe = Pipeline([\n",
    "    ('cvec', CountVectorizer()),\n",
    "    ('rc', RidgeClassifier())\n",
    "])\n",
    "\n",
    "param_grid = [\n",
    "    {\n",
    "        'cvec__max_features': [20000],# 5000, 10000, 15000, 18000, 20000\n",
    "        'cvec__min_df': [2],# 2, 3, 5\n",
    "        'cvec__max_df': [0.75],# 0.75, 0.85, 0.90, 0.95\n",
    "        'cvec__ngram_range': [(1,2)], # (1,1), (1,2), (2,2) \n",
    "        'rc__alpha': [10],# 0.01, 0.1, 1, 10, 100\n",
    "     \n",
    "    }]\n",
    "\n",
    "gs_rc_cvec = GridSearchCV(pipe, \n",
    "                  param_grid=param_grid, \n",
    "                  cv=3, verbose=2, n_jobs=6)\n",
    "\n",
    "gs_rc_cvec.fit(X_train, y_train)"
   ]
  },
  {
   "cell_type": "code",
   "execution_count": 23,
   "id": "bb478540",
   "metadata": {},
   "outputs": [
    {
     "data": {
      "text/plain": [
       "{'cvec__max_df': 0.75,\n",
       " 'cvec__max_features': 20000,\n",
       " 'cvec__min_df': 2,\n",
       " 'cvec__ngram_range': (1, 2),\n",
       " 'rc__alpha': 10}"
      ]
     },
     "execution_count": 23,
     "metadata": {},
     "output_type": "execute_result"
    }
   ],
   "source": [
    "gs_rc_cvec.best_params_"
   ]
  },
  {
   "cell_type": "code",
   "execution_count": 25,
   "id": "abdc357c",
   "metadata": {},
   "outputs": [
    {
     "name": "stdout",
     "output_type": "stream",
     "text": [
      " RidgeClassifier cvec train accuracy score 0.914\n",
      " RidgeClassifier cvec test accuracy score 0.786\n"
     ]
    }
   ],
   "source": [
    "print(f\" RidgeClassifier cvec train accuracy score {round(gs_rc_cvec.score(X_train, y_train),3)}\")\n",
    "print(f\" RidgeClassifier cvec test accuracy score {round(gs_rc_cvec.score(X_val, y_val),3)}\")"
   ]
  },
  {
   "cell_type": "markdown",
   "id": "a4ed1a16",
   "metadata": {},
   "source": [
    "#### 4.3.3.1 RidgeClassifier cvec Classification Report"
   ]
  },
  {
   "cell_type": "code",
   "execution_count": 26,
   "id": "add93728",
   "metadata": {},
   "outputs": [
    {
     "name": "stdout",
     "output_type": "stream",
     "text": [
      "[[6468 1829]\n",
      " [1719 6577]]\n",
      "              precision    recall  f1-score   support\n",
      "\n",
      "           0       0.79      0.78      0.78      8297\n",
      "           1       0.78      0.79      0.79      8296\n",
      "\n",
      "    accuracy                           0.79     16593\n",
      "   macro avg       0.79      0.79      0.79     16593\n",
      "weighted avg       0.79      0.79      0.79     16593\n",
      "\n"
     ]
    }
   ],
   "source": [
    "# y_pred value using logistic regression cvec\n",
    "y_pred_rc_cvec = gs_rc_cvec.predict(X_val)\n",
    "\n",
    "print(confusion_matrix(y_val,y_pred_rc_cvec))\n",
    "print(classification_report(y_val,y_pred_rc_cvec))"
   ]
  },
  {
   "cell_type": "markdown",
   "id": "c2c2a8d7",
   "metadata": {},
   "source": [
    "#### 4.3.3.2 RidgeClassifier cvec Top 20 Features"
   ]
  },
  {
   "cell_type": "code",
   "execution_count": 27,
   "id": "db54a64b",
   "metadata": {},
   "outputs": [
    {
     "data": {
      "image/png": "[encoded data removed]",
      "text/plain": [
       "<Figure size 1000x800 with 1 Axes>"
      ]
     },
     "metadata": {},
     "output_type": "display_data"
    }
   ],
   "source": [
    "best_model = gs_rc_cvec.best_estimator_\n",
    "\n",
    "# Extract coefficient and features names\n",
    "coefficients = best_model.named_steps['rc'].coef_[0]\n",
    "feature_names = best_model.named_steps['cvec'].get_feature_names_out()\n",
    "\n",
    "# Match coefficients to feature names and sort by magnitude\n",
    "features_with_coefficients = sorted(list(zip(feature_names, coefficients)), key=lambda x: abs(x[1]), reverse=True)\n",
    "\n",
    "# Display top 20 features\n",
    "\n",
    "# Extract features and coefficients for top 20\n",
    "top_features = [x[0] for x in features_with_coefficients[:20]]\n",
    "top_coefs = [x[1] for x in features_with_coefficients[:20]]\n",
    "\n",
    "# Plot\n",
    "plt.figure(figsize=(10, 8))\n",
    "plt.barh(top_features, top_coefs, color='skyblue')\n",
    "plt.xlabel('Coefficient Value')\n",
    "plt.ylabel('Feature')\n",
    "plt.title('Top 20 Features with Coefficients')\n",
    "plt.gca().invert_yaxis()  # To display the feature with the highest coefficient at the top\n",
    "plt.show()"
   ]
  },
  {
   "cell_type": "markdown",
   "id": "977aa57e",
   "metadata": {},
   "source": [
    "#### 4.3.3.3 RidgeClassifier cvec Top 20 features "
   ]
  },
  {
   "cell_type": "markdown",
   "id": "879d8c0f",
   "metadata": {},
   "source": [
    "**Comparing to Logistic Regression Top 20 Features**\n",
    "\n",
    "when we comparing the Ridge Classifier top 20 features with Logistic Regression, we can observe that out of 20 top features, they had 12 features in common. This is expected as the fundamental difference between  Logistic Regression and Ridge Classifier is the regularization term. \n",
    "\n",
    "**Comparing to  Top 20 Occurings words using cvec**\n",
    "\n",
    "The only common word that could be found between that two list was \"4090\".\n",
    "\n",
    "With this we are able to conclude, the top 20 occuring words using Cvec might not necessarily be the most imformative for predicting the target variable."
   ]
  },
  {
   "cell_type": "markdown",
   "id": "75eacf5c",
   "metadata": {},
   "source": [
    "#### 4.3.4.0 Random Forest using cvec "
   ]
  },
  {
   "cell_type": "code",
   "execution_count": 28,
   "id": "0a257459",
   "metadata": {},
   "outputs": [
    {
     "name": "stdout",
     "output_type": "stream",
     "text": [
      "Fitting 3 folds for each of 1 candidates, totalling 3 fits\n"
     ]
    },
    {
     "data": {
      "text/html": [
       "<style>#sk-container-id-4 {color: black;}#sk-container-id-4 pre{padding: 0;}#sk-container-id-4 div.sk-toggleable {background-color: white;}#sk-container-id-4 label.sk-toggleable__label {cursor: pointer;display: block;width: 100%;margin-bottom: 0;padding: 0.3em;box-sizing: border-box;text-align: center;}#sk-container-id-4 label.sk-toggleable__label-arrow:before {content: \"▸\";float: left;margin-right: 0.25em;color: #696969;}#sk-container-id-4 label.sk-toggleable__label-arrow:hover:before {color: black;}#sk-container-id-4 div.sk-estimator:hover label.sk-toggleable__label-arrow:before {color: black;}#sk-container-id-4 div.sk-toggleable__content {max-height: 0;max-width: 0;overflow: hidden;text-align: left;background-color: #f0f8ff;}#sk-container-id-4 div.sk-toggleable__content pre {margin: 0.2em;color: black;border-radius: 0.25em;background-color: #f0f8ff;}#sk-container-id-4 input.sk-toggleable__control:checked~div.sk-toggleable__content {max-height: 200px;max-width: 100%;overflow: auto;}#sk-container-id-4 input.sk-toggleable__control:checked~label.sk-toggleable__label-arrow:before {content: \"▾\";}#sk-container-id-4 div.sk-estimator input.sk-toggleable__control:checked~label.sk-toggleable__label {background-color: #d4ebff;}#sk-container-id-4 div.sk-label input.sk-toggleable__control:checked~label.sk-toggleable__label {background-color: #d4ebff;}#sk-container-id-4 input.sk-hidden--visually {border: 0;clip: rect(1px 1px 1px 1px);clip: rect(1px, 1px, 1px, 1px);height: 1px;margin: -1px;overflow: hidden;padding: 0;position: absolute;width: 1px;}#sk-container-id-4 div.sk-estimator {font-family: monospace;background-color: #f0f8ff;border: 1px dotted black;border-radius: 0.25em;box-sizing: border-box;margin-bottom: 0.5em;}#sk-container-id-4 div.sk-estimator:hover {background-color: #d4ebff;}#sk-container-id-4 div.sk-parallel-item::after {content: \"\";width: 100%;border-bottom: 1px solid gray;flex-grow: 1;}#sk-container-id-4 div.sk-label:hover label.sk-toggleable__label {background-color: #d4ebff;}#sk-container-id-4 div.sk-serial::before {content: \"\";position: absolute;border-left: 1px solid gray;box-sizing: border-box;top: 0;bottom: 0;left: 50%;z-index: 0;}#sk-container-id-4 div.sk-serial {display: flex;flex-direction: column;align-items: center;background-color: white;padding-right: 0.2em;padding-left: 0.2em;position: relative;}#sk-container-id-4 div.sk-item {position: relative;z-index: 1;}#sk-container-id-4 div.sk-parallel {display: flex;align-items: stretch;justify-content: center;background-color: white;position: relative;}#sk-container-id-4 div.sk-item::before, #sk-container-id-4 div.sk-parallel-item::before {content: \"\";position: absolute;border-left: 1px solid gray;box-sizing: border-box;top: 0;bottom: 0;left: 50%;z-index: -1;}#sk-container-id-4 div.sk-parallel-item {display: flex;flex-direction: column;z-index: 1;position: relative;background-color: white;}#sk-container-id-4 div.sk-parallel-item:first-child::after {align-self: flex-end;width: 50%;}#sk-container-id-4 div.sk-parallel-item:last-child::after {align-self: flex-start;width: 50%;}#sk-container-id-4 div.sk-parallel-item:only-child::after {width: 0;}#sk-container-id-4 div.sk-dashed-wrapped {border: 1px dashed gray;margin: 0 0.4em 0.5em 0.4em;box-sizing: border-box;padding-bottom: 0.4em;background-color: white;}#sk-container-id-4 div.sk-label label {font-family: monospace;font-weight: bold;display: inline-block;line-height: 1.2em;}#sk-container-id-4 div.sk-label-container {text-align: center;}#sk-container-id-4 div.sk-container {/* jupyter's `normalize.less` sets `[hidden] { display: none; }` but bootstrap.min.css set `[hidden] { display: none !important; }` so we also need the `!important` here to be able to override the default hidden behavior on the sphinx rendered scikit-learn.org. See: https://github.com/scikit-learn/scikit-learn/issues/21755 */display: inline-block !important;position: relative;}#sk-container-id-4 div.sk-text-repr-fallback {display: none;}</style><div id=\"sk-container-id-4\" class=\"sk-top-container\"><div class=\"sk-text-repr-fallback\"><pre>GridSearchCV(cv=3,\n",
       "             estimator=Pipeline(steps=[(&#x27;cvec&#x27;, CountVectorizer()),\n",
       "                                       (&#x27;rf&#x27;, RandomForestClassifier())]),\n",
       "             n_jobs=-1,\n",
       "             param_grid=[{&#x27;cvec__max_df&#x27;: [0.85], &#x27;cvec__max_features&#x27;: [10000],\n",
       "                          &#x27;cvec__min_df&#x27;: [5], &#x27;cvec__ngram_range&#x27;: [(1, 2)],\n",
       "                          &#x27;rf__max_depth&#x27;: [None], &#x27;rf__max_features&#x27;: [&#x27;sqrt&#x27;],\n",
       "                          &#x27;rf__min_samples_leaf&#x27;: [1],\n",
       "                          &#x27;rf__min_samples_split&#x27;: [4],\n",
       "                          &#x27;rf__n_estimators&#x27;: [200]}],\n",
       "             verbose=1)</pre><b>In a Jupyter environment, please rerun this cell to show the HTML representation or trust the notebook. <br />On GitHub, the HTML representation is unable to render, please try loading this page with nbviewer.org.</b></div><div class=\"sk-container\" hidden><div class=\"sk-item sk-dashed-wrapped\"><div class=\"sk-label-container\"><div class=\"sk-label sk-toggleable\"><input class=\"sk-toggleable__control sk-hidden--visually\" id=\"sk-estimator-id-13\" type=\"checkbox\" ><label for=\"sk-estimator-id-13\" class=\"sk-toggleable__label sk-toggleable__label-arrow\">GridSearchCV</label><div class=\"sk-toggleable__content\"><pre>GridSearchCV(cv=3,\n",
       "             estimator=Pipeline(steps=[(&#x27;cvec&#x27;, CountVectorizer()),\n",
       "                                       (&#x27;rf&#x27;, RandomForestClassifier())]),\n",
       "             n_jobs=-1,\n",
       "             param_grid=[{&#x27;cvec__max_df&#x27;: [0.85], &#x27;cvec__max_features&#x27;: [10000],\n",
       "                          &#x27;cvec__min_df&#x27;: [5], &#x27;cvec__ngram_range&#x27;: [(1, 2)],\n",
       "                          &#x27;rf__max_depth&#x27;: [None], &#x27;rf__max_features&#x27;: [&#x27;sqrt&#x27;],\n",
       "                          &#x27;rf__min_samples_leaf&#x27;: [1],\n",
       "                          &#x27;rf__min_samples_split&#x27;: [4],\n",
       "                          &#x27;rf__n_estimators&#x27;: [200]}],\n",
       "             verbose=1)</pre></div></div></div><div class=\"sk-parallel\"><div class=\"sk-parallel-item\"><div class=\"sk-item\"><div class=\"sk-label-container\"><div class=\"sk-label sk-toggleable\"><input class=\"sk-toggleable__control sk-hidden--visually\" id=\"sk-estimator-id-14\" type=\"checkbox\" ><label for=\"sk-estimator-id-14\" class=\"sk-toggleable__label sk-toggleable__label-arrow\">estimator: Pipeline</label><div class=\"sk-toggleable__content\"><pre>Pipeline(steps=[(&#x27;cvec&#x27;, CountVectorizer()), (&#x27;rf&#x27;, RandomForestClassifier())])</pre></div></div></div><div class=\"sk-serial\"><div class=\"sk-item\"><div class=\"sk-serial\"><div class=\"sk-item\"><div class=\"sk-estimator sk-toggleable\"><input class=\"sk-toggleable__control sk-hidden--visually\" id=\"sk-estimator-id-15\" type=\"checkbox\" ><label for=\"sk-estimator-id-15\" class=\"sk-toggleable__label sk-toggleable__label-arrow\">CountVectorizer</label><div class=\"sk-toggleable__content\"><pre>CountVectorizer()</pre></div></div></div><div class=\"sk-item\"><div class=\"sk-estimator sk-toggleable\"><input class=\"sk-toggleable__control sk-hidden--visually\" id=\"sk-estimator-id-16\" type=\"checkbox\" ><label for=\"sk-estimator-id-16\" class=\"sk-toggleable__label sk-toggleable__label-arrow\">RandomForestClassifier</label><div class=\"sk-toggleable__content\"><pre>RandomForestClassifier()</pre></div></div></div></div></div></div></div></div></div></div></div></div>"
      ],
      "text/plain": [
       "GridSearchCV(cv=3,\n",
       "             estimator=Pipeline(steps=[('cvec', CountVectorizer()),\n",
       "                                       ('rf', RandomForestClassifier())]),\n",
       "             n_jobs=-1,\n",
       "             param_grid=[{'cvec__max_df': [0.85], 'cvec__max_features': [10000],\n",
       "                          'cvec__min_df': [5], 'cvec__ngram_range': [(1, 2)],\n",
       "                          'rf__max_depth': [None], 'rf__max_features': ['sqrt'],\n",
       "                          'rf__min_samples_leaf': [1],\n",
       "                          'rf__min_samples_split': [4],\n",
       "                          'rf__n_estimators': [200]}],\n",
       "             verbose=1)"
      ]
     },
     "execution_count": 28,
     "metadata": {},
     "output_type": "execute_result"
    }
   ],
   "source": [
    "# Adjust the pipeline:\n",
    "pipe = Pipeline([\n",
    "    ('cvec', CountVectorizer()),\n",
    "    ('rf', RandomForestClassifier())\n",
    "])\n",
    "\n",
    "# Adjust the hyperparameters for GridSearchCV:\n",
    "param_grid = [\n",
    "    {\n",
    "        'cvec__max_features': [10000], #5000, 10000, 15000\n",
    "        'cvec__min_df': [5],# 2, 3, 5\n",
    "        'cvec__max_df': [0.85], # 0.75, 0.85\n",
    "        'cvec__ngram_range': [(1,2)], #(1,1), (1,2)\n",
    "        'rf__n_estimators': [200], #100, 150, 200 \n",
    "        'rf__max_depth': [None], #None, 10, 20, 30\n",
    "        'rf__min_samples_split': [4], #2, 4, 6\n",
    "        'rf__min_samples_leaf': [1], #1, 2, 3\n",
    "        'rf__max_features': ['sqrt'] # None, 'sqrt'\n",
    "    }\n",
    "]\n",
    "\n",
    "gs_rf_cvec = GridSearchCV(pipe, \n",
    "                     param_grid=param_grid, \n",
    "                     cv=3, verbose=1, n_jobs=-1)\n",
    "\n",
    "gs_rf_cvec.fit(X_train, y_train)"
   ]
  },
  {
   "cell_type": "code",
   "execution_count": 29,
   "id": "2bdf9323",
   "metadata": {},
   "outputs": [
    {
     "data": {
      "text/plain": [
       "{'cvec__max_df': 0.85,\n",
       " 'cvec__max_features': 10000,\n",
       " 'cvec__min_df': 5,\n",
       " 'cvec__ngram_range': (1, 2),\n",
       " 'rf__max_depth': None,\n",
       " 'rf__max_features': 'sqrt',\n",
       " 'rf__min_samples_leaf': 1,\n",
       " 'rf__min_samples_split': 4,\n",
       " 'rf__n_estimators': 200}"
      ]
     },
     "execution_count": 29,
     "metadata": {},
     "output_type": "execute_result"
    }
   ],
   "source": [
    "gs_rf_cvec.best_params_"
   ]
  },
  {
   "cell_type": "code",
   "execution_count": 31,
   "id": "41b67673",
   "metadata": {},
   "outputs": [
    {
     "name": "stdout",
     "output_type": "stream",
     "text": [
      " Random Forest cvec train accuracy score 0.995\n",
      " Random Forest cvec test accuracy score 0.788\n"
     ]
    }
   ],
   "source": [
    "print(f\" Random Forest cvec train accuracy score {round(gs_rf_cvec.score(X_train, y_train),3)}\")\n",
    "print(f\" Random Forest cvec test accuracy score {round(gs_rf_cvec.score(X_val, y_val),3)}\")"
   ]
  },
  {
   "cell_type": "markdown",
   "id": "5babbdcf",
   "metadata": {},
   "source": [
    "#### 4.3.4.1 Random Forest cvec Classification Report"
   ]
  },
  {
   "cell_type": "code",
   "execution_count": 32,
   "id": "669ffba3",
   "metadata": {},
   "outputs": [
    {
     "name": "stdout",
     "output_type": "stream",
     "text": [
      "[[6480 1817]\n",
      " [1708 6588]]\n",
      "              precision    recall  f1-score   support\n",
      "\n",
      "           0       0.79      0.78      0.79      8297\n",
      "           1       0.78      0.79      0.79      8296\n",
      "\n",
      "    accuracy                           0.79     16593\n",
      "   macro avg       0.79      0.79      0.79     16593\n",
      "weighted avg       0.79      0.79      0.79     16593\n",
      "\n"
     ]
    }
   ],
   "source": [
    "y_pred_rf_cvec = gs_rf_cvec.predict(X_val)\n",
    "\n",
    "print(confusion_matrix(y_val,y_pred_rf_cvec))\n",
    "print(classification_report(y_val,y_pred_rf_cvec))"
   ]
  },
  {
   "cell_type": "markdown",
   "id": "f2da829d",
   "metadata": {},
   "source": [
    "#### 4.3.4.2 Random Forest cvec Top 20 Features"
   ]
  },
  {
   "cell_type": "code",
   "execution_count": 33,
   "id": "537d0c8e",
   "metadata": {},
   "outputs": [
    {
     "data": {
      "image/png": "[encoded data removed]",
      "text/plain": [
       "<Figure size 1000x800 with 1 Axes>"
      ]
     },
     "metadata": {},
     "output_type": "display_data"
    }
   ],
   "source": [
    "# Extract the best RandomForest model and the CountVectorizer from the GridSearchCV results\n",
    "best_rf_model = gs_rf_cvec.best_estimator_.named_steps['rf']\n",
    "feature_names = gs_rf_cvec.best_estimator_.named_steps['cvec'].get_feature_names_out()\n",
    "\n",
    "# Get the feature importances and sort them\n",
    "feature_importances = best_rf_model.feature_importances_\n",
    "sorted_indices = np.argsort(feature_importances)[::-1]\n",
    "\n",
    "# Display top N features using a horizontal bar chart\n",
    "def plot_top_features(N=20):\n",
    "    top_features = [feature_names[i] for i in sorted_indices[:N]]\n",
    "    top_importances = [feature_importances[i] for i in sorted_indices[:N]]\n",
    "    \n",
    "    plt.figure(figsize=(10, 8))\n",
    "    plt.barh(top_features[::-1], top_importances[::-1], align='center')\n",
    "    plt.xlabel('Importance')\n",
    "    plt.title(f'Top {N} Features based on Importance')\n",
    "    plt.show()\n",
    "\n",
    "# Call the function to display the chart for top 20 features\n",
    "plot_top_features(N=20)"
   ]
  },
  {
   "cell_type": "markdown",
   "id": "299595e2",
   "metadata": {},
   "source": [
    "#### 4.3.4.2 Random Forest cvec Top 20 features"
   ]
  },
  {
   "cell_type": "markdown",
   "id": "4cc75234",
   "metadata": {},
   "source": [
    "**Comparing to Logistic Regression and Ridge Classifier Top 20 Features**\n",
    "we can observe that out of 20 top features, they had 10 features in common. So we can conclude that random forest seem to have some features that is important to random forest and it is important to the other model as well. \n",
    "\n",
    "**Comparing to Top 20 Occurings words using cvec** \n",
    "\n",
    "The only common words that could be found between that two list was \"4090\" and 'driver'.\n",
    "\n",
    "With this we are able to conclude, the top 20 occuring words using Cvec might not necessarily be the most imformative for predicting the target variable. "
   ]
  },
  {
   "cell_type": "markdown",
   "id": "a3958b9f",
   "metadata": {},
   "source": [
    "### 4.4.0 Modeling using TfidfVectorizer (tvec)\n",
    "\n",
    "Going to use the model below without any tuning, to find out the baseline score for each model. "
   ]
  },
  {
   "cell_type": "code",
   "execution_count": 34,
   "id": "2f4d2a25",
   "metadata": {},
   "outputs": [
    {
     "name": "stdout",
     "output_type": "stream",
     "text": [
      "LogisticRegression Train score: 0.848 Test score: 0.786\n",
      "LinearSVC Train score: 0.908 Test score: 0.782\n",
      "RidgeClassifier Train score: 0.894 Test score: 0.784\n",
      "DecisionTreeClassifier Train score: 0.998 Test score: 0.730\n",
      "KNeighborsClassifier Train score: 0.852 Test score: 0.750\n",
      "svc Train score: 0.969 Test score: 0.794\n",
      "AdaBoostClassifier Train score: 0.713 Test score: 0.705\n",
      "MultinomialNB Train score: 0.843 Test score: 0.776\n",
      "Random Forest Train score: 0.998 Test score: 0.787\n"
     ]
    }
   ],
   "source": [
    "# Define Models \n",
    "models ={\n",
    "    'LogisticRegression': LogisticRegression(max_iter=1000),\n",
    "    'LinearSVC': LinearSVC(max_iter=3000, dual=False),\n",
    "    'RidgeClassifier': RidgeClassifier(),\n",
    "    'DecisionTreeClassifier': DecisionTreeClassifier(),\n",
    "    'KNeighborsClassifier': KNeighborsClassifier(),\n",
    "    'svc': SVC(),\n",
    "    'AdaBoostClassifier': AdaBoostClassifier(),\n",
    "    'MultinomialNB':MultinomialNB(),\n",
    "    'Random Forest': RandomForestClassifier()\n",
    "}\n",
    "\n",
    "\n",
    "# Evaluate each model\n",
    "for name, model in models.items():\n",
    "    \n",
    "    # create a pipline for each model \n",
    "    pipeline = Pipeline([\n",
    "        ('tvec',  TfidfVectorizer()),\n",
    "        ('classifier', model)\n",
    "    ])\n",
    "    \n",
    "    # Fit and score the model\n",
    "    pipeline.fit(X_train, y_train)\n",
    "    train_score = pipeline.score(X_train, y_train)\n",
    "    test_score = pipeline.score(X_val, y_val) \n",
    "    \n",
    "    print(f\"{name} Train score: {train_score:.3f} Test score: {test_score:.3f}\")\n"
   ]
  },
  {
   "cell_type": "markdown",
   "id": "a77547da",
   "metadata": {},
   "source": [
    "#### 4.4.1 Conclusion from baseline model using  tvec \n",
    "\n",
    "From the results above, it shows that some models were performs better as compare to the others, So I am going to choose the following model to perform grid search\n",
    "\n",
    "**MultinomialNB** has the closest range in of train and test score as compare to the rest of the model. So this model has been choosen for grid search.   \n",
    "\n",
    "**LogisticRegression** The range difference between the train and test score was about 0.11. Althought it is much wider as compare to MultinomialNB, but will still choose this model to perform grid search, due to it perform much more better as compare to the rest of the model. \n",
    "\n",
    "**RidgeClassifier**  Will use this model, since this model able to give me the list of top 20 best correlated features.  \n",
    "\n",
    "**Random Forest** Although it perform badly wihtout any tuning, but will use this model for gridsearch, since this model are able to handle overfitting. "
   ]
  },
  {
   "cell_type": "markdown",
   "id": "255b5851",
   "metadata": {},
   "source": [
    "### 4.5.0 CountVectorizer Top 20 Occurings Words  \n",
    "\n",
    "Getting the top 20 words using tvec and compare to the models below. To see whether are there any similar words between tvec and the models used below.. "
   ]
  },
  {
   "cell_type": "code",
   "execution_count": 17,
   "id": "f7d6c3e8",
   "metadata": {},
   "outputs": [
    {
     "data": {
      "text/plain": [
       "Text(0, 0.5, 'Words')"
      ]
     },
     "execution_count": 17,
     "metadata": {},
     "output_type": "execute_result"
    },
    {
     "data": {
      "image/png": "[encoded data removed]",
      "text/plain": [
       "<Figure size 640x480 with 1 Axes>"
      ]
     },
     "metadata": {},
     "output_type": "display_data"
    }
   ],
   "source": [
    "# Initialize and fit the cvec\n",
    "cvec = TfidfVectorizer()\n",
    "X_train_cvec = cvec.fit_transform(X_train)\n",
    "\n",
    "X_train_df = pd.DataFrame(X_train_cvec.todense(),\n",
    "                         columns=cvec.get_feature_names_out())\n",
    "\n",
    "ax = X_train_df.sum().sort_values(ascending=False).head(20).plot(kind='barh')\n",
    "ax.set_title('Top 20 Occuring words')\n",
    "ax.set_xlabel('count')\n",
    "ax.set_ylabel('Words')"
   ]
  },
  {
   "cell_type": "markdown",
   "id": "ebbe6608",
   "metadata": {},
   "source": [
    "#### 4.6.1.0 MultinomialNB using tvec"
   ]
  },
  {
   "cell_type": "code",
   "execution_count": 19,
   "id": "79e389f8",
   "metadata": {},
   "outputs": [
    {
     "name": "stdout",
     "output_type": "stream",
     "text": [
      "Fitting 5 folds for each of 1 candidates, totalling 5 fits\n"
     ]
    },
    {
     "data": {
      "text/html": [
       "<style>#sk-container-id-2 {color: black;}#sk-container-id-2 pre{padding: 0;}#sk-container-id-2 div.sk-toggleable {background-color: white;}#sk-container-id-2 label.sk-toggleable__label {cursor: pointer;display: block;width: 100%;margin-bottom: 0;padding: 0.3em;box-sizing: border-box;text-align: center;}#sk-container-id-2 label.sk-toggleable__label-arrow:before {content: \"▸\";float: left;margin-right: 0.25em;color: #696969;}#sk-container-id-2 label.sk-toggleable__label-arrow:hover:before {color: black;}#sk-container-id-2 div.sk-estimator:hover label.sk-toggleable__label-arrow:before {color: black;}#sk-container-id-2 div.sk-toggleable__content {max-height: 0;max-width: 0;overflow: hidden;text-align: left;background-color: #f0f8ff;}#sk-container-id-2 div.sk-toggleable__content pre {margin: 0.2em;color: black;border-radius: 0.25em;background-color: #f0f8ff;}#sk-container-id-2 input.sk-toggleable__control:checked~div.sk-toggleable__content {max-height: 200px;max-width: 100%;overflow: auto;}#sk-container-id-2 input.sk-toggleable__control:checked~label.sk-toggleable__label-arrow:before {content: \"▾\";}#sk-container-id-2 div.sk-estimator input.sk-toggleable__control:checked~label.sk-toggleable__label {background-color: #d4ebff;}#sk-container-id-2 div.sk-label input.sk-toggleable__control:checked~label.sk-toggleable__label {background-color: #d4ebff;}#sk-container-id-2 input.sk-hidden--visually {border: 0;clip: rect(1px 1px 1px 1px);clip: rect(1px, 1px, 1px, 1px);height: 1px;margin: -1px;overflow: hidden;padding: 0;position: absolute;width: 1px;}#sk-container-id-2 div.sk-estimator {font-family: monospace;background-color: #f0f8ff;border: 1px dotted black;border-radius: 0.25em;box-sizing: border-box;margin-bottom: 0.5em;}#sk-container-id-2 div.sk-estimator:hover {background-color: #d4ebff;}#sk-container-id-2 div.sk-parallel-item::after {content: \"\";width: 100%;border-bottom: 1px solid gray;flex-grow: 1;}#sk-container-id-2 div.sk-label:hover label.sk-toggleable__label {background-color: #d4ebff;}#sk-container-id-2 div.sk-serial::before {content: \"\";position: absolute;border-left: 1px solid gray;box-sizing: border-box;top: 0;bottom: 0;left: 50%;z-index: 0;}#sk-container-id-2 div.sk-serial {display: flex;flex-direction: column;align-items: center;background-color: white;padding-right: 0.2em;padding-left: 0.2em;position: relative;}#sk-container-id-2 div.sk-item {position: relative;z-index: 1;}#sk-container-id-2 div.sk-parallel {display: flex;align-items: stretch;justify-content: center;background-color: white;position: relative;}#sk-container-id-2 div.sk-item::before, #sk-container-id-2 div.sk-parallel-item::before {content: \"\";position: absolute;border-left: 1px solid gray;box-sizing: border-box;top: 0;bottom: 0;left: 50%;z-index: -1;}#sk-container-id-2 div.sk-parallel-item {display: flex;flex-direction: column;z-index: 1;position: relative;background-color: white;}#sk-container-id-2 div.sk-parallel-item:first-child::after {align-self: flex-end;width: 50%;}#sk-container-id-2 div.sk-parallel-item:last-child::after {align-self: flex-start;width: 50%;}#sk-container-id-2 div.sk-parallel-item:only-child::after {width: 0;}#sk-container-id-2 div.sk-dashed-wrapped {border: 1px dashed gray;margin: 0 0.4em 0.5em 0.4em;box-sizing: border-box;padding-bottom: 0.4em;background-color: white;}#sk-container-id-2 div.sk-label label {font-family: monospace;font-weight: bold;display: inline-block;line-height: 1.2em;}#sk-container-id-2 div.sk-label-container {text-align: center;}#sk-container-id-2 div.sk-container {/* jupyter's `normalize.less` sets `[hidden] { display: none; }` but bootstrap.min.css set `[hidden] { display: none !important; }` so we also need the `!important` here to be able to override the default hidden behavior on the sphinx rendered scikit-learn.org. See: https://github.com/scikit-learn/scikit-learn/issues/21755 */display: inline-block !important;position: relative;}#sk-container-id-2 div.sk-text-repr-fallback {display: none;}</style><div id=\"sk-container-id-2\" class=\"sk-top-container\"><div class=\"sk-text-repr-fallback\"><pre>GridSearchCV(cv=5,\n",
       "             estimator=Pipeline(steps=[(&#x27;tvec&#x27;, TfidfVectorizer()),\n",
       "                                       (&#x27;classifier&#x27;, MultinomialNB())]),\n",
       "             n_jobs=6,\n",
       "             param_grid={&#x27;classifier__alpha&#x27;: [1.0], &#x27;tvec__max_df&#x27;: [0.75],\n",
       "                         &#x27;tvec__max_features&#x27;: [10000], &#x27;tvec__min_df&#x27;: [5],\n",
       "                         &#x27;tvec__ngram_range&#x27;: [(1, 2)]},\n",
       "             verbose=2)</pre><b>In a Jupyter environment, please rerun this cell to show the HTML representation or trust the notebook. <br />On GitHub, the HTML representation is unable to render, please try loading this page with nbviewer.org.</b></div><div class=\"sk-container\" hidden><div class=\"sk-item sk-dashed-wrapped\"><div class=\"sk-label-container\"><div class=\"sk-label sk-toggleable\"><input class=\"sk-toggleable__control sk-hidden--visually\" id=\"sk-estimator-id-5\" type=\"checkbox\" ><label for=\"sk-estimator-id-5\" class=\"sk-toggleable__label sk-toggleable__label-arrow\">GridSearchCV</label><div class=\"sk-toggleable__content\"><pre>GridSearchCV(cv=5,\n",
       "             estimator=Pipeline(steps=[(&#x27;tvec&#x27;, TfidfVectorizer()),\n",
       "                                       (&#x27;classifier&#x27;, MultinomialNB())]),\n",
       "             n_jobs=6,\n",
       "             param_grid={&#x27;classifier__alpha&#x27;: [1.0], &#x27;tvec__max_df&#x27;: [0.75],\n",
       "                         &#x27;tvec__max_features&#x27;: [10000], &#x27;tvec__min_df&#x27;: [5],\n",
       "                         &#x27;tvec__ngram_range&#x27;: [(1, 2)]},\n",
       "             verbose=2)</pre></div></div></div><div class=\"sk-parallel\"><div class=\"sk-parallel-item\"><div class=\"sk-item\"><div class=\"sk-label-container\"><div class=\"sk-label sk-toggleable\"><input class=\"sk-toggleable__control sk-hidden--visually\" id=\"sk-estimator-id-6\" type=\"checkbox\" ><label for=\"sk-estimator-id-6\" class=\"sk-toggleable__label sk-toggleable__label-arrow\">estimator: Pipeline</label><div class=\"sk-toggleable__content\"><pre>Pipeline(steps=[(&#x27;tvec&#x27;, TfidfVectorizer()), (&#x27;classifier&#x27;, MultinomialNB())])</pre></div></div></div><div class=\"sk-serial\"><div class=\"sk-item\"><div class=\"sk-serial\"><div class=\"sk-item\"><div class=\"sk-estimator sk-toggleable\"><input class=\"sk-toggleable__control sk-hidden--visually\" id=\"sk-estimator-id-7\" type=\"checkbox\" ><label for=\"sk-estimator-id-7\" class=\"sk-toggleable__label sk-toggleable__label-arrow\">TfidfVectorizer</label><div class=\"sk-toggleable__content\"><pre>TfidfVectorizer()</pre></div></div></div><div class=\"sk-item\"><div class=\"sk-estimator sk-toggleable\"><input class=\"sk-toggleable__control sk-hidden--visually\" id=\"sk-estimator-id-8\" type=\"checkbox\" ><label for=\"sk-estimator-id-8\" class=\"sk-toggleable__label sk-toggleable__label-arrow\">MultinomialNB</label><div class=\"sk-toggleable__content\"><pre>MultinomialNB()</pre></div></div></div></div></div></div></div></div></div></div></div></div>"
      ],
      "text/plain": [
       "GridSearchCV(cv=5,\n",
       "             estimator=Pipeline(steps=[('tvec', TfidfVectorizer()),\n",
       "                                       ('classifier', MultinomialNB())]),\n",
       "             n_jobs=6,\n",
       "             param_grid={'classifier__alpha': [1.0], 'tvec__max_df': [0.75],\n",
       "                         'tvec__max_features': [10000], 'tvec__min_df': [5],\n",
       "                         'tvec__ngram_range': [(1, 2)]},\n",
       "             verbose=2)"
      ]
     },
     "execution_count": 19,
     "metadata": {},
     "output_type": "execute_result"
    }
   ],
   "source": [
    "pipe = Pipeline([\n",
    "    ('tvec', TfidfVectorizer()),\n",
    "    ('classifier', MultinomialNB())\n",
    "])\n",
    "\n",
    "pipe_params = {\n",
    "    'tvec__max_features': [10000], # 4000, 6000, 8000, 10000\n",
    "    'tvec__min_df': [5],  # 5, 10, 15\n",
    "    'tvec__max_df': [.75],  # .75, .80, .85, .90\n",
    "    'tvec__ngram_range': [(1,2)],  # (1,2), (1,1), (2,2)\n",
    "    'classifier__alpha': [1.0]  # 0.01, 0.1, 1.0, 10.0\n",
    "}\n",
    "\n",
    "gs_nb_tvec = GridSearchCV(pipe, \n",
    "                  param_grid=pipe_params, \n",
    "                  cv=5, verbose=2,  n_jobs=6)\n",
    "\n",
    "gs_nb_tvec.fit(X_train, y_train)"
   ]
  },
  {
   "cell_type": "code",
   "execution_count": 20,
   "id": "dec4e4a9",
   "metadata": {},
   "outputs": [
    {
     "data": {
      "text/plain": [
       "{'classifier__alpha': 1.0,\n",
       " 'tvec__max_df': 0.75,\n",
       " 'tvec__max_features': 10000,\n",
       " 'tvec__min_df': 5,\n",
       " 'tvec__ngram_range': (1, 2)}"
      ]
     },
     "execution_count": 20,
     "metadata": {},
     "output_type": "execute_result"
    }
   ],
   "source": [
    "gs_nb_tvec.best_params_"
   ]
  },
  {
   "cell_type": "code",
   "execution_count": 21,
   "id": "e0b2f4bd",
   "metadata": {},
   "outputs": [
    {
     "name": "stdout",
     "output_type": "stream",
     "text": [
      " MultinomialNB tvec train accuracy score 0.837\n",
      " MultinomialNB tvec test accuracy score 0.789\n"
     ]
    }
   ],
   "source": [
    "print(f\" MultinomialNB tvec train accuracy score {round(gs_nb_tvec.score(X_train, y_train),3)}\")\n",
    "print(f\" MultinomialNB tvec test accuracy score {round(gs_nb_tvec.score(X_val, y_val),3)}\")"
   ]
  },
  {
   "cell_type": "markdown",
   "id": "960d190d",
   "metadata": {},
   "source": [
    "#### 4.6.1.1 MultinomialNB tvec Classification Report"
   ]
  },
  {
   "cell_type": "code",
   "execution_count": 22,
   "id": "95ccc2bf",
   "metadata": {},
   "outputs": [
    {
     "name": "stdout",
     "output_type": "stream",
     "text": [
      "[[5967 2055]\n",
      " [1323 6699]]\n",
      "              precision    recall  f1-score   support\n",
      "\n",
      "           0       0.82      0.74      0.78      8022\n",
      "           1       0.77      0.84      0.80      8022\n",
      "\n",
      "    accuracy                           0.79     16044\n",
      "   macro avg       0.79      0.79      0.79     16044\n",
      "weighted avg       0.79      0.79      0.79     16044\n",
      "\n"
     ]
    }
   ],
   "source": [
    "# y_pred value using NB cvec\n",
    "y_pred_nb_tvec = gs_nb_tvec.predict(X_val)\n",
    "\n",
    "print(confusion_matrix(y_val,y_pred_nb_tvec))\n",
    "print(classification_report(y_val,y_pred_nb_tvec))"
   ]
  },
  {
   "cell_type": "markdown",
   "id": "a7251be7",
   "metadata": {},
   "source": [
    "#### 4.6.2.0  LogisticRegression using tvec"
   ]
  },
  {
   "cell_type": "code",
   "execution_count": 24,
   "id": "68e32dfb",
   "metadata": {},
   "outputs": [
    {
     "name": "stdout",
     "output_type": "stream",
     "text": [
      "Fitting 3 folds for each of 2880 candidates, totalling 8640 fits\n"
     ]
    },
    {
     "data": {
      "text/html": [
       "<style>#sk-container-id-3 {color: black;}#sk-container-id-3 pre{padding: 0;}#sk-container-id-3 div.sk-toggleable {background-color: white;}#sk-container-id-3 label.sk-toggleable__label {cursor: pointer;display: block;width: 100%;margin-bottom: 0;padding: 0.3em;box-sizing: border-box;text-align: center;}#sk-container-id-3 label.sk-toggleable__label-arrow:before {content: \"▸\";float: left;margin-right: 0.25em;color: #696969;}#sk-container-id-3 label.sk-toggleable__label-arrow:hover:before {color: black;}#sk-container-id-3 div.sk-estimator:hover label.sk-toggleable__label-arrow:before {color: black;}#sk-container-id-3 div.sk-toggleable__content {max-height: 0;max-width: 0;overflow: hidden;text-align: left;background-color: #f0f8ff;}#sk-container-id-3 div.sk-toggleable__content pre {margin: 0.2em;color: black;border-radius: 0.25em;background-color: #f0f8ff;}#sk-container-id-3 input.sk-toggleable__control:checked~div.sk-toggleable__content {max-height: 200px;max-width: 100%;overflow: auto;}#sk-container-id-3 input.sk-toggleable__control:checked~label.sk-toggleable__label-arrow:before {content: \"▾\";}#sk-container-id-3 div.sk-estimator input.sk-toggleable__control:checked~label.sk-toggleable__label {background-color: #d4ebff;}#sk-container-id-3 div.sk-label input.sk-toggleable__control:checked~label.sk-toggleable__label {background-color: #d4ebff;}#sk-container-id-3 input.sk-hidden--visually {border: 0;clip: rect(1px 1px 1px 1px);clip: rect(1px, 1px, 1px, 1px);height: 1px;margin: -1px;overflow: hidden;padding: 0;position: absolute;width: 1px;}#sk-container-id-3 div.sk-estimator {font-family: monospace;background-color: #f0f8ff;border: 1px dotted black;border-radius: 0.25em;box-sizing: border-box;margin-bottom: 0.5em;}#sk-container-id-3 div.sk-estimator:hover {background-color: #d4ebff;}#sk-container-id-3 div.sk-parallel-item::after {content: \"\";width: 100%;border-bottom: 1px solid gray;flex-grow: 1;}#sk-container-id-3 div.sk-label:hover label.sk-toggleable__label {background-color: #d4ebff;}#sk-container-id-3 div.sk-serial::before {content: \"\";position: absolute;border-left: 1px solid gray;box-sizing: border-box;top: 0;bottom: 0;left: 50%;z-index: 0;}#sk-container-id-3 div.sk-serial {display: flex;flex-direction: column;align-items: center;background-color: white;padding-right: 0.2em;padding-left: 0.2em;position: relative;}#sk-container-id-3 div.sk-item {position: relative;z-index: 1;}#sk-container-id-3 div.sk-parallel {display: flex;align-items: stretch;justify-content: center;background-color: white;position: relative;}#sk-container-id-3 div.sk-item::before, #sk-container-id-3 div.sk-parallel-item::before {content: \"\";position: absolute;border-left: 1px solid gray;box-sizing: border-box;top: 0;bottom: 0;left: 50%;z-index: -1;}#sk-container-id-3 div.sk-parallel-item {display: flex;flex-direction: column;z-index: 1;position: relative;background-color: white;}#sk-container-id-3 div.sk-parallel-item:first-child::after {align-self: flex-end;width: 50%;}#sk-container-id-3 div.sk-parallel-item:last-child::after {align-self: flex-start;width: 50%;}#sk-container-id-3 div.sk-parallel-item:only-child::after {width: 0;}#sk-container-id-3 div.sk-dashed-wrapped {border: 1px dashed gray;margin: 0 0.4em 0.5em 0.4em;box-sizing: border-box;padding-bottom: 0.4em;background-color: white;}#sk-container-id-3 div.sk-label label {font-family: monospace;font-weight: bold;display: inline-block;line-height: 1.2em;}#sk-container-id-3 div.sk-label-container {text-align: center;}#sk-container-id-3 div.sk-container {/* jupyter's `normalize.less` sets `[hidden] { display: none; }` but bootstrap.min.css set `[hidden] { display: none !important; }` so we also need the `!important` here to be able to override the default hidden behavior on the sphinx rendered scikit-learn.org. See: https://github.com/scikit-learn/scikit-learn/issues/21755 */display: inline-block !important;position: relative;}#sk-container-id-3 div.sk-text-repr-fallback {display: none;}</style><div id=\"sk-container-id-3\" class=\"sk-top-container\"><div class=\"sk-text-repr-fallback\"><pre>GridSearchCV(cv=3,\n",
       "             estimator=Pipeline(steps=[(&#x27;tvec&#x27;, TfidfVectorizer()),\n",
       "                                       (&#x27;lr&#x27;,\n",
       "                                        LogisticRegression(max_iter=5000))]),\n",
       "             n_jobs=6,\n",
       "             param_grid=[{&#x27;lr__C&#x27;: [0.01, 0.1, 1, 10],\n",
       "                          &#x27;lr__class_weight&#x27;: [None, &#x27;balanced&#x27;],\n",
       "                          &#x27;lr__penalty&#x27;: [&#x27;l1&#x27;, &#x27;l2&#x27;],\n",
       "                          &#x27;lr__solver&#x27;: [&#x27;liblinear&#x27;],\n",
       "                          &#x27;tvec__max_df&#x27;: [0.75, 0.85, 0.9, 0.95],\n",
       "                          &#x27;tvec__max_features&#x27;: [5000, 10000, 15000, 18000,\n",
       "                                                 20000],\n",
       "                          &#x27;tvec__min_df&#x27;: [2, 3, 5],\n",
       "                          &#x27;tvec__ngram_range&#x27;: [(1, 1), (1, 2), (2, 2)]}],\n",
       "             verbose=2)</pre><b>In a Jupyter environment, please rerun this cell to show the HTML representation or trust the notebook. <br />On GitHub, the HTML representation is unable to render, please try loading this page with nbviewer.org.</b></div><div class=\"sk-container\" hidden><div class=\"sk-item sk-dashed-wrapped\"><div class=\"sk-label-container\"><div class=\"sk-label sk-toggleable\"><input class=\"sk-toggleable__control sk-hidden--visually\" id=\"sk-estimator-id-9\" type=\"checkbox\" ><label for=\"sk-estimator-id-9\" class=\"sk-toggleable__label sk-toggleable__label-arrow\">GridSearchCV</label><div class=\"sk-toggleable__content\"><pre>GridSearchCV(cv=3,\n",
       "             estimator=Pipeline(steps=[(&#x27;tvec&#x27;, TfidfVectorizer()),\n",
       "                                       (&#x27;lr&#x27;,\n",
       "                                        LogisticRegression(max_iter=5000))]),\n",
       "             n_jobs=6,\n",
       "             param_grid=[{&#x27;lr__C&#x27;: [0.01, 0.1, 1, 10],\n",
       "                          &#x27;lr__class_weight&#x27;: [None, &#x27;balanced&#x27;],\n",
       "                          &#x27;lr__penalty&#x27;: [&#x27;l1&#x27;, &#x27;l2&#x27;],\n",
       "                          &#x27;lr__solver&#x27;: [&#x27;liblinear&#x27;],\n",
       "                          &#x27;tvec__max_df&#x27;: [0.75, 0.85, 0.9, 0.95],\n",
       "                          &#x27;tvec__max_features&#x27;: [5000, 10000, 15000, 18000,\n",
       "                                                 20000],\n",
       "                          &#x27;tvec__min_df&#x27;: [2, 3, 5],\n",
       "                          &#x27;tvec__ngram_range&#x27;: [(1, 1), (1, 2), (2, 2)]}],\n",
       "             verbose=2)</pre></div></div></div><div class=\"sk-parallel\"><div class=\"sk-parallel-item\"><div class=\"sk-item\"><div class=\"sk-label-container\"><div class=\"sk-label sk-toggleable\"><input class=\"sk-toggleable__control sk-hidden--visually\" id=\"sk-estimator-id-10\" type=\"checkbox\" ><label for=\"sk-estimator-id-10\" class=\"sk-toggleable__label sk-toggleable__label-arrow\">estimator: Pipeline</label><div class=\"sk-toggleable__content\"><pre>Pipeline(steps=[(&#x27;tvec&#x27;, TfidfVectorizer()),\n",
       "                (&#x27;lr&#x27;, LogisticRegression(max_iter=5000))])</pre></div></div></div><div class=\"sk-serial\"><div class=\"sk-item\"><div class=\"sk-serial\"><div class=\"sk-item\"><div class=\"sk-estimator sk-toggleable\"><input class=\"sk-toggleable__control sk-hidden--visually\" id=\"sk-estimator-id-11\" type=\"checkbox\" ><label for=\"sk-estimator-id-11\" class=\"sk-toggleable__label sk-toggleable__label-arrow\">TfidfVectorizer</label><div class=\"sk-toggleable__content\"><pre>TfidfVectorizer()</pre></div></div></div><div class=\"sk-item\"><div class=\"sk-estimator sk-toggleable\"><input class=\"sk-toggleable__control sk-hidden--visually\" id=\"sk-estimator-id-12\" type=\"checkbox\" ><label for=\"sk-estimator-id-12\" class=\"sk-toggleable__label sk-toggleable__label-arrow\">LogisticRegression</label><div class=\"sk-toggleable__content\"><pre>LogisticRegression(max_iter=5000)</pre></div></div></div></div></div></div></div></div></div></div></div></div>"
      ],
      "text/plain": [
       "GridSearchCV(cv=3,\n",
       "             estimator=Pipeline(steps=[('tvec', TfidfVectorizer()),\n",
       "                                       ('lr',\n",
       "                                        LogisticRegression(max_iter=5000))]),\n",
       "             n_jobs=6,\n",
       "             param_grid=[{'lr__C': [0.01, 0.1, 1, 10],\n",
       "                          'lr__class_weight': [None, 'balanced'],\n",
       "                          'lr__penalty': ['l1', 'l2'],\n",
       "                          'lr__solver': ['liblinear'],\n",
       "                          'tvec__max_df': [0.75, 0.85, 0.9, 0.95],\n",
       "                          'tvec__max_features': [5000, 10000, 15000, 18000,\n",
       "                                                 20000],\n",
       "                          'tvec__min_df': [2, 3, 5],\n",
       "                          'tvec__ngram_range': [(1, 1), (1, 2), (2, 2)]}],\n",
       "             verbose=2)"
      ]
     },
     "execution_count": 24,
     "metadata": {},
     "output_type": "execute_result"
    }
   ],
   "source": [
    "pipe = Pipeline([\n",
    "    ('tvec', TfidfVectorizer()),\n",
    "    ('lr', LogisticRegression(max_iter=5000))\n",
    "])\n",
    "\n",
    "param_grid = [\n",
    "    {\n",
    "        'tvec__max_features': [20000],# 5000, 10000, 15000, 18000, 20000\n",
    "        'tvec__min_df': [2],# 2, 3, 5\n",
    "        'tvec__max_df': [0.75],# 0.75, 0.85, 0.90, 0.95\n",
    "        'tvec__ngram_range': [(1,2)],# (1,1), (1,2), (2,2) \n",
    "        'lr__C': [1],# 0.01, 0.1, 1, 10\n",
    "        'lr__penalty': ['l2'], #'l1', 'l2'\n",
    "        'lr__solver': ['liblinear'],\n",
    "        'lr__class_weight': [None] # None, 'balanced'\n",
    "    }]\n",
    "\n",
    "gs_lr_tvec = GridSearchCV(pipe, \n",
    "                  param_grid=param_grid, \n",
    "                  cv=3, verbose=2, n_jobs=6)\n",
    "\n",
    "gs_lr_tvec.fit(X_train, y_train)"
   ]
  },
  {
   "cell_type": "code",
   "execution_count": 25,
   "id": "fa46e99b",
   "metadata": {},
   "outputs": [
    {
     "data": {
      "text/plain": [
       "{'lr__C': 1,\n",
       " 'lr__class_weight': None,\n",
       " 'lr__penalty': 'l2',\n",
       " 'lr__solver': 'liblinear',\n",
       " 'tvec__max_df': 0.75,\n",
       " 'tvec__max_features': 20000,\n",
       " 'tvec__min_df': 2,\n",
       " 'tvec__ngram_range': (1, 2)}"
      ]
     },
     "execution_count": 25,
     "metadata": {},
     "output_type": "execute_result"
    }
   ],
   "source": [
    "gs_lr_tvec.best_params_"
   ]
  },
  {
   "cell_type": "code",
   "execution_count": 26,
   "id": "82089d3d",
   "metadata": {},
   "outputs": [
    {
     "name": "stdout",
     "output_type": "stream",
     "text": [
      " LogisticRegression tvec train accuracy score 0.879\n",
      " LogisticRegression tvec test accuracy score 0.798\n"
     ]
    }
   ],
   "source": [
    "print(f\" LogisticRegression tvec train accuracy score {round(gs_lr_tvec.score(X_train, y_train),3)}\")\n",
    "print(f\" LogisticRegression tvec test accuracy score {round(gs_lr_tvec.score(X_val, y_val),3)}\")"
   ]
  },
  {
   "cell_type": "markdown",
   "id": "f838bdb2",
   "metadata": {},
   "source": [
    "#### 4.6.2.1 LogisticRegression tvec Classification Report"
   ]
  },
  {
   "cell_type": "code",
   "execution_count": 27,
   "id": "54239d02",
   "metadata": {},
   "outputs": [
    {
     "name": "stdout",
     "output_type": "stream",
     "text": [
      "[[6246 1776]\n",
      " [1458 6564]]\n",
      "              precision    recall  f1-score   support\n",
      "\n",
      "           0       0.81      0.78      0.79      8022\n",
      "           1       0.79      0.82      0.80      8022\n",
      "\n",
      "    accuracy                           0.80     16044\n",
      "   macro avg       0.80      0.80      0.80     16044\n",
      "weighted avg       0.80      0.80      0.80     16044\n",
      "\n"
     ]
    }
   ],
   "source": [
    "# y_pred value using NB cvec\n",
    "y_pred_lr_tvec = gs_lr_tvec.predict(X_val)\n",
    "\n",
    "print(confusion_matrix(y_val,y_pred_lr_tvec))\n",
    "print(classification_report(y_val,y_pred_lr_tvec))"
   ]
  },
  {
   "cell_type": "markdown",
   "id": "5d087e5e",
   "metadata": {},
   "source": [
    "#### 4.6.2.2  LogisticRegression tvec Top 20 features "
   ]
  },
  {
   "cell_type": "code",
   "execution_count": 28,
   "id": "a45472a3",
   "metadata": {},
   "outputs": [
    {
     "data": {
      "image/png": "[encoded data removed]",
      "text/plain": [
       "<Figure size 1000x800 with 1 Axes>"
      ]
     },
     "metadata": {},
     "output_type": "display_data"
    }
   ],
   "source": [
    "best_model = gs_lr_tvec.best_estimator_\n",
    "\n",
    "# Extract coefficient and features names\n",
    "coefficients = best_model.named_steps['lr'].coef_[0]\n",
    "feature_names = best_model.named_steps['tvec'].get_feature_names_out()\n",
    "\n",
    "# Match coefficients to feature names and sort by magnitude\n",
    "features_with_coefficients = sorted(list(zip(feature_names, coefficients)), key=lambda x: abs(x[1]), reverse=True)\n",
    "\n",
    "# Display top 20 features\n",
    "\n",
    "# Extract features and coefficients for top 20\n",
    "top_features = [x[0] for x in features_with_coefficients[:20]]\n",
    "top_coefs = [x[1] for x in features_with_coefficients[:20]]\n",
    "\n",
    "# Plot\n",
    "plt.figure(figsize=(10, 8))\n",
    "plt.barh(top_features, top_coefs, color='skyblue')\n",
    "plt.xlabel('Coefficient Value')\n",
    "plt.ylabel('Feature')\n",
    "plt.title('Top 20 Features with Coefficients')\n",
    "plt.gca().invert_yaxis()  # To display the feature with the highest coefficient at the top\n",
    "plt.show()"
   ]
  },
  {
   "cell_type": "markdown",
   "id": "3b2d7f8b",
   "metadata": {},
   "source": [
    "#### 4.6.2.2  LogisticRegression cvec Top 20 Features\n",
    "\n",
    "Comparing the \"Top 20 best coefficient words\" with \"4.5.0 TfidfVectorizer Top 20 occurings words\", the only common word that could be found between that two list was \"dl\". \n",
    "\n",
    "With this we are able to conclude, the top 20 occuring words using tvec might not necessarily be the most imformative for predicting the target variable. "
   ]
  },
  {
   "cell_type": "markdown",
   "id": "da228f4d",
   "metadata": {},
   "source": [
    "#### 4.6.3.0  RidgeClassifier using tvec"
   ]
  },
  {
   "cell_type": "code",
   "execution_count": 29,
   "id": "52a5dee4",
   "metadata": {},
   "outputs": [
    {
     "name": "stdout",
     "output_type": "stream",
     "text": [
      "Fitting 3 folds for each of 1 candidates, totalling 3 fits\n"
     ]
    },
    {
     "data": {
      "text/html": [
       "<style>#sk-container-id-4 {color: black;}#sk-container-id-4 pre{padding: 0;}#sk-container-id-4 div.sk-toggleable {background-color: white;}#sk-container-id-4 label.sk-toggleable__label {cursor: pointer;display: block;width: 100%;margin-bottom: 0;padding: 0.3em;box-sizing: border-box;text-align: center;}#sk-container-id-4 label.sk-toggleable__label-arrow:before {content: \"▸\";float: left;margin-right: 0.25em;color: #696969;}#sk-container-id-4 label.sk-toggleable__label-arrow:hover:before {color: black;}#sk-container-id-4 div.sk-estimator:hover label.sk-toggleable__label-arrow:before {color: black;}#sk-container-id-4 div.sk-toggleable__content {max-height: 0;max-width: 0;overflow: hidden;text-align: left;background-color: #f0f8ff;}#sk-container-id-4 div.sk-toggleable__content pre {margin: 0.2em;color: black;border-radius: 0.25em;background-color: #f0f8ff;}#sk-container-id-4 input.sk-toggleable__control:checked~div.sk-toggleable__content {max-height: 200px;max-width: 100%;overflow: auto;}#sk-container-id-4 input.sk-toggleable__control:checked~label.sk-toggleable__label-arrow:before {content: \"▾\";}#sk-container-id-4 div.sk-estimator input.sk-toggleable__control:checked~label.sk-toggleable__label {background-color: #d4ebff;}#sk-container-id-4 div.sk-label input.sk-toggleable__control:checked~label.sk-toggleable__label {background-color: #d4ebff;}#sk-container-id-4 input.sk-hidden--visually {border: 0;clip: rect(1px 1px 1px 1px);clip: rect(1px, 1px, 1px, 1px);height: 1px;margin: -1px;overflow: hidden;padding: 0;position: absolute;width: 1px;}#sk-container-id-4 div.sk-estimator {font-family: monospace;background-color: #f0f8ff;border: 1px dotted black;border-radius: 0.25em;box-sizing: border-box;margin-bottom: 0.5em;}#sk-container-id-4 div.sk-estimator:hover {background-color: #d4ebff;}#sk-container-id-4 div.sk-parallel-item::after {content: \"\";width: 100%;border-bottom: 1px solid gray;flex-grow: 1;}#sk-container-id-4 div.sk-label:hover label.sk-toggleable__label {background-color: #d4ebff;}#sk-container-id-4 div.sk-serial::before {content: \"\";position: absolute;border-left: 1px solid gray;box-sizing: border-box;top: 0;bottom: 0;left: 50%;z-index: 0;}#sk-container-id-4 div.sk-serial {display: flex;flex-direction: column;align-items: center;background-color: white;padding-right: 0.2em;padding-left: 0.2em;position: relative;}#sk-container-id-4 div.sk-item {position: relative;z-index: 1;}#sk-container-id-4 div.sk-parallel {display: flex;align-items: stretch;justify-content: center;background-color: white;position: relative;}#sk-container-id-4 div.sk-item::before, #sk-container-id-4 div.sk-parallel-item::before {content: \"\";position: absolute;border-left: 1px solid gray;box-sizing: border-box;top: 0;bottom: 0;left: 50%;z-index: -1;}#sk-container-id-4 div.sk-parallel-item {display: flex;flex-direction: column;z-index: 1;position: relative;background-color: white;}#sk-container-id-4 div.sk-parallel-item:first-child::after {align-self: flex-end;width: 50%;}#sk-container-id-4 div.sk-parallel-item:last-child::after {align-self: flex-start;width: 50%;}#sk-container-id-4 div.sk-parallel-item:only-child::after {width: 0;}#sk-container-id-4 div.sk-dashed-wrapped {border: 1px dashed gray;margin: 0 0.4em 0.5em 0.4em;box-sizing: border-box;padding-bottom: 0.4em;background-color: white;}#sk-container-id-4 div.sk-label label {font-family: monospace;font-weight: bold;display: inline-block;line-height: 1.2em;}#sk-container-id-4 div.sk-label-container {text-align: center;}#sk-container-id-4 div.sk-container {/* jupyter's `normalize.less` sets `[hidden] { display: none; }` but bootstrap.min.css set `[hidden] { display: none !important; }` so we also need the `!important` here to be able to override the default hidden behavior on the sphinx rendered scikit-learn.org. See: https://github.com/scikit-learn/scikit-learn/issues/21755 */display: inline-block !important;position: relative;}#sk-container-id-4 div.sk-text-repr-fallback {display: none;}</style><div id=\"sk-container-id-4\" class=\"sk-top-container\"><div class=\"sk-text-repr-fallback\"><pre>GridSearchCV(cv=3,\n",
       "             estimator=Pipeline(steps=[(&#x27;tvec&#x27;, TfidfVectorizer()),\n",
       "                                       (&#x27;rc&#x27;, RidgeClassifier())]),\n",
       "             n_jobs=-1,\n",
       "             param_grid=[{&#x27;rc__alpha&#x27;: [10], &#x27;tvec__max_df&#x27;: [0.75],\n",
       "                          &#x27;tvec__max_features&#x27;: [18000], &#x27;tvec__min_df&#x27;: [2],\n",
       "                          &#x27;tvec__ngram_range&#x27;: [(1, 2)]}],\n",
       "             verbose=2)</pre><b>In a Jupyter environment, please rerun this cell to show the HTML representation or trust the notebook. <br />On GitHub, the HTML representation is unable to render, please try loading this page with nbviewer.org.</b></div><div class=\"sk-container\" hidden><div class=\"sk-item sk-dashed-wrapped\"><div class=\"sk-label-container\"><div class=\"sk-label sk-toggleable\"><input class=\"sk-toggleable__control sk-hidden--visually\" id=\"sk-estimator-id-13\" type=\"checkbox\" ><label for=\"sk-estimator-id-13\" class=\"sk-toggleable__label sk-toggleable__label-arrow\">GridSearchCV</label><div class=\"sk-toggleable__content\"><pre>GridSearchCV(cv=3,\n",
       "             estimator=Pipeline(steps=[(&#x27;tvec&#x27;, TfidfVectorizer()),\n",
       "                                       (&#x27;rc&#x27;, RidgeClassifier())]),\n",
       "             n_jobs=-1,\n",
       "             param_grid=[{&#x27;rc__alpha&#x27;: [10], &#x27;tvec__max_df&#x27;: [0.75],\n",
       "                          &#x27;tvec__max_features&#x27;: [18000], &#x27;tvec__min_df&#x27;: [2],\n",
       "                          &#x27;tvec__ngram_range&#x27;: [(1, 2)]}],\n",
       "             verbose=2)</pre></div></div></div><div class=\"sk-parallel\"><div class=\"sk-parallel-item\"><div class=\"sk-item\"><div class=\"sk-label-container\"><div class=\"sk-label sk-toggleable\"><input class=\"sk-toggleable__control sk-hidden--visually\" id=\"sk-estimator-id-14\" type=\"checkbox\" ><label for=\"sk-estimator-id-14\" class=\"sk-toggleable__label sk-toggleable__label-arrow\">estimator: Pipeline</label><div class=\"sk-toggleable__content\"><pre>Pipeline(steps=[(&#x27;tvec&#x27;, TfidfVectorizer()), (&#x27;rc&#x27;, RidgeClassifier())])</pre></div></div></div><div class=\"sk-serial\"><div class=\"sk-item\"><div class=\"sk-serial\"><div class=\"sk-item\"><div class=\"sk-estimator sk-toggleable\"><input class=\"sk-toggleable__control sk-hidden--visually\" id=\"sk-estimator-id-15\" type=\"checkbox\" ><label for=\"sk-estimator-id-15\" class=\"sk-toggleable__label sk-toggleable__label-arrow\">TfidfVectorizer</label><div class=\"sk-toggleable__content\"><pre>TfidfVectorizer()</pre></div></div></div><div class=\"sk-item\"><div class=\"sk-estimator sk-toggleable\"><input class=\"sk-toggleable__control sk-hidden--visually\" id=\"sk-estimator-id-16\" type=\"checkbox\" ><label for=\"sk-estimator-id-16\" class=\"sk-toggleable__label sk-toggleable__label-arrow\">RidgeClassifier</label><div class=\"sk-toggleable__content\"><pre>RidgeClassifier()</pre></div></div></div></div></div></div></div></div></div></div></div></div>"
      ],
      "text/plain": [
       "GridSearchCV(cv=3,\n",
       "             estimator=Pipeline(steps=[('tvec', TfidfVectorizer()),\n",
       "                                       ('rc', RidgeClassifier())]),\n",
       "             n_jobs=-1,\n",
       "             param_grid=[{'rc__alpha': [10], 'tvec__max_df': [0.75],\n",
       "                          'tvec__max_features': [18000], 'tvec__min_df': [2],\n",
       "                          'tvec__ngram_range': [(1, 2)]}],\n",
       "             verbose=2)"
      ]
     },
     "execution_count": 29,
     "metadata": {},
     "output_type": "execute_result"
    }
   ],
   "source": [
    "# Now, you can use the original X_train_vec_ct in your pipeline:\n",
    "pipe = Pipeline([\n",
    "    ('tvec', TfidfVectorizer()),\n",
    "    ('rc', RidgeClassifier())\n",
    "])\n",
    "\n",
    "param_grid = [\n",
    "    {\n",
    "        'tvec__max_features': [18000],# 5000, 10000, 15000, 18000, 20000\n",
    "        'tvec__min_df': [2],# 2, 3, 5\n",
    "        'tvec__max_df': [0.75],# 0.75, 0.85, 0.90, 0.95\n",
    "        'tvec__ngram_range': [(1,2)],# (1,1), (1,2), (2,2) \n",
    "        'rc__alpha': [10],# 0.001, 0.01, 0.1, 1, 10, 100\n",
    "     \n",
    "    }]\n",
    "\n",
    "gs_rc_tvec = GridSearchCV(pipe, \n",
    "                  param_grid=param_grid, \n",
    "                  cv=3, verbose=2, n_jobs=-1)\n",
    "\n",
    "gs_rc_tvec.fit(X_train, y_train)"
   ]
  },
  {
   "cell_type": "code",
   "execution_count": 30,
   "id": "d94cf95a",
   "metadata": {},
   "outputs": [
    {
     "data": {
      "text/plain": [
       "{'rc__alpha': 10,\n",
       " 'tvec__max_df': 0.75,\n",
       " 'tvec__max_features': 18000,\n",
       " 'tvec__min_df': 2,\n",
       " 'tvec__ngram_range': (1, 2)}"
      ]
     },
     "execution_count": 30,
     "metadata": {},
     "output_type": "execute_result"
    }
   ],
   "source": [
    "gs_rc_tvec.best_params_"
   ]
  },
  {
   "cell_type": "code",
   "execution_count": 31,
   "id": "b9e41bdc",
   "metadata": {},
   "outputs": [
    {
     "name": "stdout",
     "output_type": "stream",
     "text": [
      " RidgeClassifier tvec train accuracy score 0.855\n",
      " RidgeClassifier tvec test accuracy score 0.795\n"
     ]
    }
   ],
   "source": [
    "print(f\" RidgeClassifier tvec train accuracy score {round(gs_rc_tvec.score(X_train, y_train),3)}\")\n",
    "print(f\" RidgeClassifier tvec test accuracy score {round(gs_rc_tvec.score(X_val, y_val),3)}\")"
   ]
  },
  {
   "cell_type": "markdown",
   "id": "03e0d499",
   "metadata": {},
   "source": [
    "#### 4.6.3.1  RidgeClassifier using tvec Classification Report"
   ]
  },
  {
   "cell_type": "code",
   "execution_count": 32,
   "id": "9bda725c",
   "metadata": {},
   "outputs": [
    {
     "name": "stdout",
     "output_type": "stream",
     "text": [
      "[[6141 1881]\n",
      " [1414 6608]]\n",
      "              precision    recall  f1-score   support\n",
      "\n",
      "           0       0.81      0.77      0.79      8022\n",
      "           1       0.78      0.82      0.80      8022\n",
      "\n",
      "    accuracy                           0.79     16044\n",
      "   macro avg       0.80      0.79      0.79     16044\n",
      "weighted avg       0.80      0.79      0.79     16044\n",
      "\n"
     ]
    }
   ],
   "source": [
    "# y_pred value using NB cvec\n",
    "y_pred_rc_tvec = gs_rc_tvec.predict(X_val)\n",
    "\n",
    "print(confusion_matrix(y_val,y_pred_rc_tvec))\n",
    "print(classification_report(y_val,y_pred_rc_tvec))"
   ]
  },
  {
   "cell_type": "markdown",
   "id": "df2018ea",
   "metadata": {},
   "source": [
    "#### 4.6.3.2  RidgeClassifier tvec Top 20 Features"
   ]
  },
  {
   "cell_type": "code",
   "execution_count": 33,
   "id": "4cf069a7",
   "metadata": {},
   "outputs": [
    {
     "data": {
      "image/png": "[encoded data removed]",
      "text/plain": [
       "<Figure size 1000x800 with 1 Axes>"
      ]
     },
     "metadata": {},
     "output_type": "display_data"
    }
   ],
   "source": [
    "best_model = gs_rc_tvec.best_estimator_\n",
    "\n",
    "# Extract coefficient and features names\n",
    "coefficients = best_model.named_steps['rc'].coef_[0]\n",
    "feature_names = best_model.named_steps['tvec'].get_feature_names_out()\n",
    "\n",
    "# Match coefficients to feature names and sort by magnitude\n",
    "features_with_coefficients = sorted(list(zip(feature_names, coefficients)), key=lambda x: abs(x[1]), reverse=True)\n",
    "\n",
    "# Display top 20 features\n",
    "\n",
    "# Extract features and coefficients for top 20\n",
    "top_features = [x[0] for x in features_with_coefficients[:20]]\n",
    "top_coefs = [x[1] for x in features_with_coefficients[:20]]\n",
    "\n",
    "# Plot\n",
    "plt.figure(figsize=(10, 8))\n",
    "plt.barh(top_features, top_coefs, color='skyblue')\n",
    "plt.xlabel('Coefficient Value')\n",
    "plt.ylabel('Feature')\n",
    "plt.title('Top 20 Features with Coefficients')\n",
    "plt.gca().invert_yaxis()  # To display the feature with the highest coefficient at the top\n",
    "plt.show()"
   ]
  },
  {
   "cell_type": "markdown",
   "id": "6731ad28",
   "metadata": {},
   "source": [
    "#### 4.6.3.2  RidgeClassifier tvec Top 20 Features\n",
    "\n",
    "Comparing the \"Top 20 best coefficient words\" with \"4.5.0 TfidfVectorizer Top 20 occurings words\", the only common word that could be found between that two list was \"dl\". \n",
    "\n",
    "With this we are able to conclude, the top 20 occuring words using tvec might not necessarily be the most imformative for predicting the target variable. "
   ]
  },
  {
   "cell_type": "markdown",
   "id": "862ca248",
   "metadata": {},
   "source": [
    "#### 4.6.4.0 Random Forest using tvec "
   ]
  },
  {
   "cell_type": "code",
   "execution_count": 38,
   "id": "9b537f85",
   "metadata": {},
   "outputs": [
    {
     "name": "stdout",
     "output_type": "stream",
     "text": [
      "Fitting 3 folds for each of 1 candidates, totalling 3 fits\n"
     ]
    },
    {
     "data": {
      "text/html": [
       "<style>#sk-container-id-6 {color: black;}#sk-container-id-6 pre{padding: 0;}#sk-container-id-6 div.sk-toggleable {background-color: white;}#sk-container-id-6 label.sk-toggleable__label {cursor: pointer;display: block;width: 100%;margin-bottom: 0;padding: 0.3em;box-sizing: border-box;text-align: center;}#sk-container-id-6 label.sk-toggleable__label-arrow:before {content: \"▸\";float: left;margin-right: 0.25em;color: #696969;}#sk-container-id-6 label.sk-toggleable__label-arrow:hover:before {color: black;}#sk-container-id-6 div.sk-estimator:hover label.sk-toggleable__label-arrow:before {color: black;}#sk-container-id-6 div.sk-toggleable__content {max-height: 0;max-width: 0;overflow: hidden;text-align: left;background-color: #f0f8ff;}#sk-container-id-6 div.sk-toggleable__content pre {margin: 0.2em;color: black;border-radius: 0.25em;background-color: #f0f8ff;}#sk-container-id-6 input.sk-toggleable__control:checked~div.sk-toggleable__content {max-height: 200px;max-width: 100%;overflow: auto;}#sk-container-id-6 input.sk-toggleable__control:checked~label.sk-toggleable__label-arrow:before {content: \"▾\";}#sk-container-id-6 div.sk-estimator input.sk-toggleable__control:checked~label.sk-toggleable__label {background-color: #d4ebff;}#sk-container-id-6 div.sk-label input.sk-toggleable__control:checked~label.sk-toggleable__label {background-color: #d4ebff;}#sk-container-id-6 input.sk-hidden--visually {border: 0;clip: rect(1px 1px 1px 1px);clip: rect(1px, 1px, 1px, 1px);height: 1px;margin: -1px;overflow: hidden;padding: 0;position: absolute;width: 1px;}#sk-container-id-6 div.sk-estimator {font-family: monospace;background-color: #f0f8ff;border: 1px dotted black;border-radius: 0.25em;box-sizing: border-box;margin-bottom: 0.5em;}#sk-container-id-6 div.sk-estimator:hover {background-color: #d4ebff;}#sk-container-id-6 div.sk-parallel-item::after {content: \"\";width: 100%;border-bottom: 1px solid gray;flex-grow: 1;}#sk-container-id-6 div.sk-label:hover label.sk-toggleable__label {background-color: #d4ebff;}#sk-container-id-6 div.sk-serial::before {content: \"\";position: absolute;border-left: 1px solid gray;box-sizing: border-box;top: 0;bottom: 0;left: 50%;z-index: 0;}#sk-container-id-6 div.sk-serial {display: flex;flex-direction: column;align-items: center;background-color: white;padding-right: 0.2em;padding-left: 0.2em;position: relative;}#sk-container-id-6 div.sk-item {position: relative;z-index: 1;}#sk-container-id-6 div.sk-parallel {display: flex;align-items: stretch;justify-content: center;background-color: white;position: relative;}#sk-container-id-6 div.sk-item::before, #sk-container-id-6 div.sk-parallel-item::before {content: \"\";position: absolute;border-left: 1px solid gray;box-sizing: border-box;top: 0;bottom: 0;left: 50%;z-index: -1;}#sk-container-id-6 div.sk-parallel-item {display: flex;flex-direction: column;z-index: 1;position: relative;background-color: white;}#sk-container-id-6 div.sk-parallel-item:first-child::after {align-self: flex-end;width: 50%;}#sk-container-id-6 div.sk-parallel-item:last-child::after {align-self: flex-start;width: 50%;}#sk-container-id-6 div.sk-parallel-item:only-child::after {width: 0;}#sk-container-id-6 div.sk-dashed-wrapped {border: 1px dashed gray;margin: 0 0.4em 0.5em 0.4em;box-sizing: border-box;padding-bottom: 0.4em;background-color: white;}#sk-container-id-6 div.sk-label label {font-family: monospace;font-weight: bold;display: inline-block;line-height: 1.2em;}#sk-container-id-6 div.sk-label-container {text-align: center;}#sk-container-id-6 div.sk-container {/* jupyter's `normalize.less` sets `[hidden] { display: none; }` but bootstrap.min.css set `[hidden] { display: none !important; }` so we also need the `!important` here to be able to override the default hidden behavior on the sphinx rendered scikit-learn.org. See: https://github.com/scikit-learn/scikit-learn/issues/21755 */display: inline-block !important;position: relative;}#sk-container-id-6 div.sk-text-repr-fallback {display: none;}</style><div id=\"sk-container-id-6\" class=\"sk-top-container\"><div class=\"sk-text-repr-fallback\"><pre>GridSearchCV(cv=3,\n",
       "             estimator=Pipeline(steps=[(&#x27;tvec&#x27;, TfidfVectorizer()),\n",
       "                                       (&#x27;rf&#x27;, RandomForestClassifier())]),\n",
       "             n_jobs=6,\n",
       "             param_grid=[{&#x27;rf__max_depth&#x27;: [None], &#x27;rf__max_features&#x27;: [&#x27;sqrt&#x27;],\n",
       "                          &#x27;rf__min_samples_leaf&#x27;: [1],\n",
       "                          &#x27;rf__min_samples_split&#x27;: [4],\n",
       "                          &#x27;rf__n_estimators&#x27;: [150], &#x27;tvec__max_df&#x27;: [0.85],\n",
       "                          &#x27;tvec__max_features&#x27;: [15000], &#x27;tvec__min_df&#x27;: [2],\n",
       "                          &#x27;tvec__ngram_range&#x27;: [(1, 1)]}],\n",
       "             verbose=1)</pre><b>In a Jupyter environment, please rerun this cell to show the HTML representation or trust the notebook. <br />On GitHub, the HTML representation is unable to render, please try loading this page with nbviewer.org.</b></div><div class=\"sk-container\" hidden><div class=\"sk-item sk-dashed-wrapped\"><div class=\"sk-label-container\"><div class=\"sk-label sk-toggleable\"><input class=\"sk-toggleable__control sk-hidden--visually\" id=\"sk-estimator-id-21\" type=\"checkbox\" ><label for=\"sk-estimator-id-21\" class=\"sk-toggleable__label sk-toggleable__label-arrow\">GridSearchCV</label><div class=\"sk-toggleable__content\"><pre>GridSearchCV(cv=3,\n",
       "             estimator=Pipeline(steps=[(&#x27;tvec&#x27;, TfidfVectorizer()),\n",
       "                                       (&#x27;rf&#x27;, RandomForestClassifier())]),\n",
       "             n_jobs=6,\n",
       "             param_grid=[{&#x27;rf__max_depth&#x27;: [None], &#x27;rf__max_features&#x27;: [&#x27;sqrt&#x27;],\n",
       "                          &#x27;rf__min_samples_leaf&#x27;: [1],\n",
       "                          &#x27;rf__min_samples_split&#x27;: [4],\n",
       "                          &#x27;rf__n_estimators&#x27;: [150], &#x27;tvec__max_df&#x27;: [0.85],\n",
       "                          &#x27;tvec__max_features&#x27;: [15000], &#x27;tvec__min_df&#x27;: [2],\n",
       "                          &#x27;tvec__ngram_range&#x27;: [(1, 1)]}],\n",
       "             verbose=1)</pre></div></div></div><div class=\"sk-parallel\"><div class=\"sk-parallel-item\"><div class=\"sk-item\"><div class=\"sk-label-container\"><div class=\"sk-label sk-toggleable\"><input class=\"sk-toggleable__control sk-hidden--visually\" id=\"sk-estimator-id-22\" type=\"checkbox\" ><label for=\"sk-estimator-id-22\" class=\"sk-toggleable__label sk-toggleable__label-arrow\">estimator: Pipeline</label><div class=\"sk-toggleable__content\"><pre>Pipeline(steps=[(&#x27;tvec&#x27;, TfidfVectorizer()), (&#x27;rf&#x27;, RandomForestClassifier())])</pre></div></div></div><div class=\"sk-serial\"><div class=\"sk-item\"><div class=\"sk-serial\"><div class=\"sk-item\"><div class=\"sk-estimator sk-toggleable\"><input class=\"sk-toggleable__control sk-hidden--visually\" id=\"sk-estimator-id-23\" type=\"checkbox\" ><label for=\"sk-estimator-id-23\" class=\"sk-toggleable__label sk-toggleable__label-arrow\">TfidfVectorizer</label><div class=\"sk-toggleable__content\"><pre>TfidfVectorizer()</pre></div></div></div><div class=\"sk-item\"><div class=\"sk-estimator sk-toggleable\"><input class=\"sk-toggleable__control sk-hidden--visually\" id=\"sk-estimator-id-24\" type=\"checkbox\" ><label for=\"sk-estimator-id-24\" class=\"sk-toggleable__label sk-toggleable__label-arrow\">RandomForestClassifier</label><div class=\"sk-toggleable__content\"><pre>RandomForestClassifier()</pre></div></div></div></div></div></div></div></div></div></div></div></div>"
      ],
      "text/plain": [
       "GridSearchCV(cv=3,\n",
       "             estimator=Pipeline(steps=[('tvec', TfidfVectorizer()),\n",
       "                                       ('rf', RandomForestClassifier())]),\n",
       "             n_jobs=6,\n",
       "             param_grid=[{'rf__max_depth': [None], 'rf__max_features': ['sqrt'],\n",
       "                          'rf__min_samples_leaf': [1],\n",
       "                          'rf__min_samples_split': [4],\n",
       "                          'rf__n_estimators': [150], 'tvec__max_df': [0.85],\n",
       "                          'tvec__max_features': [15000], 'tvec__min_df': [2],\n",
       "                          'tvec__ngram_range': [(1, 1)]}],\n",
       "             verbose=1)"
      ]
     },
     "execution_count": 38,
     "metadata": {},
     "output_type": "execute_result"
    }
   ],
   "source": [
    "# Adjust the pipeline:\n",
    "pipe = Pipeline([\n",
    "    ('tvec', TfidfVectorizer()),\n",
    "    ('rf', RandomForestClassifier())\n",
    "])\n",
    "\n",
    "# Adjust the hyperparameters for GridSearchCV:\n",
    "param_grid = [\n",
    "    {\n",
    "        'tvec__max_features': [15000], #5000, 10000, 15000\n",
    "        'tvec__min_df': [2],# 2, 3, 5\n",
    "        'tvec__max_df': [0.85], # 0.75, 0.85, 0.90\n",
    "        'tvec__ngram_range': [(1,1)], #(1,1), (1,2)\n",
    "        'rf__n_estimators': [150], #100, 150, 200 \n",
    "        'rf__max_depth': [None], #None, 10, 20, 30\n",
    "        'rf__min_samples_split': [4], #2, 4, 6\n",
    "        'rf__min_samples_leaf': [1], #1, 2, 3\n",
    "        'rf__max_features': ['sqrt'] # None, 'sqrt'\n",
    "    }\n",
    "]\n",
    "\n",
    "gs_rf_tvec = GridSearchCV(pipe, \n",
    "                     param_grid=param_grid, \n",
    "                     cv=3, verbose=1, n_jobs=6)\n",
    "\n",
    "gs_rf_tvec.fit(X_train, y_train)"
   ]
  },
  {
   "cell_type": "code",
   "execution_count": 39,
   "id": "ab852fcd",
   "metadata": {},
   "outputs": [
    {
     "data": {
      "text/plain": [
       "{'rf__max_depth': None,\n",
       " 'rf__max_features': 'sqrt',\n",
       " 'rf__min_samples_leaf': 1,\n",
       " 'rf__min_samples_split': 4,\n",
       " 'rf__n_estimators': 150,\n",
       " 'tvec__max_df': 0.85,\n",
       " 'tvec__max_features': 15000,\n",
       " 'tvec__min_df': 2,\n",
       " 'tvec__ngram_range': (1, 1)}"
      ]
     },
     "execution_count": 39,
     "metadata": {},
     "output_type": "execute_result"
    }
   ],
   "source": [
    "gs_rf_tvec.best_params_"
   ]
  },
  {
   "cell_type": "code",
   "execution_count": 40,
   "id": "06d29dea",
   "metadata": {},
   "outputs": [
    {
     "name": "stdout",
     "output_type": "stream",
     "text": [
      " Random Forest tvec train accuracy score 1.0\n",
      " Random Forest tvec test accuracy score 0.79\n"
     ]
    }
   ],
   "source": [
    "print(f\" Random Forest tvec train accuracy score {round(gs_rf_tvec.score(X_train, y_train),3)}\")\n",
    "print(f\" Random Forest tvec test accuracy score {round(gs_rf_tvec.score(X_val, y_val),3)}\")"
   ]
  },
  {
   "cell_type": "markdown",
   "id": "52b6c40f",
   "metadata": {},
   "source": [
    "#### 4.6.4.1 Random Forest using tvec Classification Report"
   ]
  },
  {
   "cell_type": "code",
   "execution_count": 41,
   "id": "fd8cd4fc",
   "metadata": {},
   "outputs": [
    {
     "name": "stdout",
     "output_type": "stream",
     "text": [
      "[[6164 1858]\n",
      " [1504 6518]]\n",
      "              precision    recall  f1-score   support\n",
      "\n",
      "           0       0.80      0.77      0.79      8022\n",
      "           1       0.78      0.81      0.79      8022\n",
      "\n",
      "    accuracy                           0.79     16044\n",
      "   macro avg       0.79      0.79      0.79     16044\n",
      "weighted avg       0.79      0.79      0.79     16044\n",
      "\n"
     ]
    }
   ],
   "source": [
    "# y_pred value using NB cvec\n",
    "y_pred_rf_tvec = gs_rf_tvec.predict(X_val)\n",
    "\n",
    "print(confusion_matrix(y_val,y_pred_rf_tvec))\n",
    "print(classification_report(y_val,y_pred_rf_tvec))"
   ]
  },
  {
   "cell_type": "markdown",
   "id": "81ec5bc0",
   "metadata": {},
   "source": [
    "#### 4.6.4.2 Random Forest tvec Top 20 Features"
   ]
  },
  {
   "cell_type": "code",
   "execution_count": null,
   "id": "13b7eac7",
   "metadata": {},
   "outputs": [],
   "source": [
    "# Extract the best RandomForest model and the CountVectorizer from the GridSearchCV results\n",
    "best_rf_model = gs_rf_tvec.best_estimator_.named_steps['rf']\n",
    "feature_names = gs_rf_tvec.best_estimator_.named_steps['tvec'].get_feature_names_out()\n",
    "\n",
    "# Get the feature importances and sort them\n",
    "feature_importances = best_rf_model.feature_importances_\n",
    "sorted_indices = np.argsort(feature_importances)[::-1]\n",
    "\n",
    "# Display top N features using a horizontal bar chart\n",
    "def plot_top_features(N=20):\n",
    "    top_features = [feature_names[i] for i in sorted_indices[:N]]\n",
    "    top_importances = [feature_importances[i] for i in sorted_indices[:N]]\n",
    "    \n",
    "    plt.figure(figsize=(10, 8))\n",
    "    plt.barh(top_features[::-1], top_importances[::-1], align='center')\n",
    "    plt.xlabel('Importance')\n",
    "    plt.title(f'Top {N} Features based on Importance')\n",
    "    plt.show()\n",
    "\n",
    "# Call the function to display the chart for top 20 features\n",
    "plot_top_features(N=20)"
   ]
  },
  {
   "cell_type": "markdown",
   "id": "4edb1200",
   "metadata": {},
   "source": [
    "#### 4.6.4.2 Random Forest tvec Top 20 Features"
   ]
  },
  {
   "cell_type": "markdown",
   "id": "6540ec17",
   "metadata": {},
   "source": [
    "# 5.0 Modelling Conclusions\n",
    "\n",
    "### 5.1 Model Performance\n",
    "|Model|Train Score|Test Score|F1-Score|\n",
    "|---|---|---|---|\n",
    "|Naive Bayes with cvec|0.811|0.784|0.79|\n",
    "|Naive Bayes with tvec|0.837|0.789|0.80|\n",
    "|Random Forest with cvec|0.995|0.788|0.79|\n",
    "|Random Forest with tvec|1.0|0.790|0.79|\n",
    "|Logistic Regression with cvec|0.859|0.792|0.79|\n",
    "|Logistic Regression with tvec|0.879|0.798|0.80|\n",
    "|RidgeClassifier with cvec|0.914|0.786|0.79|\n",
    "|RidgeClassifier with tvec|0.855|0.795|0.80|"
   ]
  },
  {
   "cell_type": "markdown",
   "id": "22847c0f",
   "metadata": {},
   "source": [
    "All of our models perform similarly. However, the one can be further improve on is Naive Bayes CountVectorizer, the train and test score range where not far apart. \n",
    " \n",
    "The preferred production model is therefore Naive Bayes with CountVectorizer.\n",
    "\n",
    "This model can be deployed in GPU discussion forums to separate posts about nVidia / AMD for sentiment analysis.\n",
    "\n",
    "### 5.2 Lesson learn\n",
    "\n",
    "Using NLTK to preprocess the text would product slightly higher score in terms of accuracy as compared using spaCY.\n",
    "\n",
    "I had try to keep the model number and model name for all Nvidia graphic cards, In hope that it might helps the model to distinguish between Amd and Nvidia, but it didn't help the model to perform better either. \n",
    "\n",
    "I had tried to scrap all the comments from both subreddit amd and nvidia and merge it with the body text of the respective subreddit, after sending it to pre processsing using NLTK or spaCy, it does not improve the model performance. \n",
    "\n",
    "what work was instead of merging comments with body text, I used body text and merge with title and pre processing with NLTK, it will be able to produce the best score that I had so far.  \n"
   ]
  },
  {
   "cell_type": "markdown",
   "id": "e9c3e106",
   "metadata": {},
   "source": [
    "# 6.0 Sentiment Analysis Conclusion \n",
    "\n",
    "### Headline Conclusion Using VADER compound score \n",
    "\n",
    "1. The mean value of r/nvidia compound score was 0.207 \n",
    "\n",
    "2. The mean value of r/amd compound score was 0.137 \n",
    "\n",
    "3. Using the compound score, r/amd generally has a more negative sentiment as compare to r/nvidia\n",
    "\n",
    "4. Hence, it is likely a genuine issue with AMD product \n",
    "\n"
   ]
  },
  {
   "cell_type": "markdown",
   "id": "191aff39",
   "metadata": {},
   "source": [
    "# 7.0 Recommendations\n",
    "\n",
    "## Modelling\n",
    "\n",
    "1. The Naive Bayes with CountVectorizer.r model has the best result and run time, hence it can be deployed as to GPU discussion forums. \n",
    "\n",
    "2. While the F1-score % and accuracy around 79% it is good enough for our case. Our purpose is to roughly estimate whether there is any significantly more negative sentiment surround either AMD or Nvidia. The proportion of false positive and false negatives is decent based on the f1 score \n",
    "\n",
    "\n",
    "## Senitment Analysis \n",
    "\n",
    "1. Engineering needs to be given more resources to apply towards development for greater driver stability. \n",
    "\n",
    "2. A good start would be development and implementation of comprehensive testing suite before any new grpahics release. \n",
    "\n",
    "\n"
   ]
  },
  {
   "cell_type": "code",
   "execution_count": null,
   "id": "223badad",
   "metadata": {},
   "outputs": [],
   "source": []
  }
 ],
 "metadata": {
  "kernelspec": {
   "display_name": "Python 3 (ipykernel)",
   "language": "python",
   "name": "python3"
  },
  "language_info": {
   "codemirror_mode": {
    "name": "ipython",
    "version": 3
   },
   "file_extension": ".py",
   "mimetype": "text/x-python",
   "name": "python",
   "nbconvert_exporter": "python",
   "pygments_lexer": "ipython3",
   "version": "3.10.9"
  }
 },
 "nbformat": 4,
 "nbformat_minor": 5
}
